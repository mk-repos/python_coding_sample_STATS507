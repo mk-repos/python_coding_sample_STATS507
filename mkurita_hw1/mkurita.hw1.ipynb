{
 "cells": [
  {
   "cell_type": "markdown",
   "metadata": {},
   "source": [
    "## STATS 507 Homework 01\n",
    "### Moeki Kurita\n",
    "#### mkurita@umich.edu"
   ]
  },
  {
   "cell_type": "markdown",
   "metadata": {},
   "source": [
    "### Problem 1: Severance textbook exercises (1 hour spent)\n",
    "#### Chapter 1, Exercise 3\n",
    "CPU cannot understand high-level languages like Python, which are intended for humans to read and write. Thus we need to translate high-level languages into a machine language to execute a program. There are two types of translators: Interpreter and Compiler. The interpreter runs code line by line on the fly, whereas the compiler converts code into a file before the program run. In general, compiled languages are faster than interpreted languages.\n",
    "#### Chapter 1, Exercise 5\n",
    "It has syntax errors. The name of function is wrong, and it needs parenthesis around the sentence."
   ]
  },
  {
   "cell_type": "code",
   "execution_count": 1,
   "metadata": {},
   "outputs": [
    {
     "name": "stdout",
     "output_type": "stream",
     "text": [
      "Hello world!\n"
     ]
    }
   ],
   "source": [
    "print('Hello world!')"
   ]
  },
  {
   "cell_type": "markdown",
   "metadata": {},
   "source": [
    "#### Chapter 1, Exercise 6\n",
    "b) Main Memory\n",
    "#### Chapter 1, Exercise 8\n",
    "1. CPU  \n",
    "It runs instructions we write. The performance of CPUs is identical to how fast our brain can think, process information, and solve problems like arithmetic.\n",
    "2. Main Memory  \n",
    "It temporarily stores information for CPU to process. This is identical to the short-term memory of humans.\n",
    "3. Secondary Memory  \n",
    "It also stores information like our brain. It is slower than the main memory, but can hold information longer even when the PC is shut off.\n",
    "4. Input Device  \n",
    "It interacts with users and get information etc. from the outside world. This is identical to the five senses of humans.\n",
    "5. Output Device  \n",
    "It interacts with users and display information etc. to the outside world, just like humans' facial expressios and verbal communication."
   ]
  },
  {
   "cell_type": "markdown",
   "metadata": {},
   "source": [
    "#### Chapter 2, Exercise 3"
   ]
  },
  {
   "cell_type": "code",
   "execution_count": 2,
   "metadata": {},
   "outputs": [
    {
     "name": "stdout",
     "output_type": "stream",
     "text": [
      "Enter Hours:35\n",
      "Enter Rate:2.75\n",
      "Pay:96.25\n"
     ]
    }
   ],
   "source": [
    "hours = input(\"Enter Hours:\")\n",
    "rate = input(\"Enter Rate:\")\n",
    "gross = float(hours)*float(rate)\n",
    "print(f\"Pay:{gross}\")"
   ]
  },
  {
   "cell_type": "markdown",
   "metadata": {},
   "source": [
    "#### Chapter 2, Exercise 4\n",
    "1. Value:8, Type:<class 'int'>\n",
    "2. Value:8.5, Type:<class 'float'>\n",
    "3. Value:4.0, Type:<class 'float'>\n",
    "3. Value:11, Type:<class 'int'>"
   ]
  },
  {
   "cell_type": "markdown",
   "metadata": {},
   "source": [
    "#### Chapter 3, Exercise 1"
   ]
  },
  {
   "cell_type": "code",
   "execution_count": 5,
   "metadata": {},
   "outputs": [
    {
     "name": "stdout",
     "output_type": "stream",
     "text": [
      "Enter Hours:45\n",
      "Enter Rate:10\n",
      "Pay:475.0\n"
     ]
    }
   ],
   "source": [
    "hours = float(input(\"Enter Hours:\"))\n",
    "rate = float(input(\"Enter Rate:\"))\n",
    "\n",
    "if hours > 40:\n",
    "    up_to_forty = 40*rate\n",
    "    extra_hours = (hours-40)*1.5*rate\n",
    "    gross = up_to_forty + extra_hours\n",
    "else:\n",
    "    gross = hours*rate\n",
    "\n",
    "print(f\"Pay:{gross}\")"
   ]
  },
  {
   "cell_type": "markdown",
   "metadata": {},
   "source": [
    "#### Chapter 3, Exercise 2"
   ]
  },
  {
   "cell_type": "code",
   "execution_count": 7,
   "metadata": {},
   "outputs": [
    {
     "name": "stdout",
     "output_type": "stream",
     "text": [
      "Enter Hours:20\n",
      "Enter Rate:nin\n",
      "Error, please enter numeric input\n"
     ]
    }
   ],
   "source": [
    "hours = input(\"Enter Hours:\")\n",
    "try:\n",
    "    hours = float(hours)\n",
    "    rate = input(\"Enter Rate:\")\n",
    "    try:\n",
    "        rate = float(rate)\n",
    "        gross = float(hours)*float(rate)\n",
    "        print(f\"Pay:{gross}\")\n",
    "    except:\n",
    "        print(\"Error, please enter numeric input\")\n",
    "except:\n",
    "    print(\"Error, please enter numeric input\")"
   ]
  },
  {
   "cell_type": "markdown",
   "metadata": {},
   "source": [
    "#### Chapter 4, Exercise 6"
   ]
  },
  {
   "cell_type": "code",
   "execution_count": 1,
   "metadata": {},
   "outputs": [
    {
     "name": "stdout",
     "output_type": "stream",
     "text": [
      "Enter Hours:45\n",
      "Enter Rate:10\n",
      "Pay:475.0\n"
     ]
    }
   ],
   "source": [
    "def computepay(hours, rate):\n",
    "    if hours > 40:\n",
    "        up_to_forty = 40*rate\n",
    "        extra_hours = (hours-40)*1.5*rate\n",
    "        gross = up_to_forty + extra_hours\n",
    "    else:\n",
    "        gross = hours*rate\n",
    "    return gross\n",
    "\n",
    "hours = input(\"Enter Hours:\")\n",
    "try:\n",
    "    hours = float(hours)\n",
    "    rate = input(\"Enter Rate:\")\n",
    "    try:\n",
    "        rate = float(rate)\n",
    "        print(f\"Pay:{computepay(hours, rate)}\")\n",
    "    except:\n",
    "        print(\"Error, please enter numeric input\")\n",
    "except:\n",
    "    print(\"Error, please enter numeric input\")"
   ]
  },
  {
   "cell_type": "markdown",
   "metadata": {},
   "source": [
    "#### Chapter 5, Exercise 1"
   ]
  },
  {
   "cell_type": "code",
   "execution_count": 1,
   "metadata": {},
   "outputs": [
    {
     "name": "stdout",
     "output_type": "stream",
     "text": [
      "Enter a number:4\n",
      "Enter a number:5\n",
      "Enter a number:bad data\n",
      "Invalid input\n",
      "Enter a number:7\n",
      "Enter a number:done\n",
      "16 3 5.333333333333333\n"
     ]
    }
   ],
   "source": [
    "user_input = []\n",
    "while True:\n",
    "    inp = input(\"Enter a number:\")\n",
    "    if inp != \"done\":\n",
    "        try:\n",
    "            inp_float = float(inp)\n",
    "            user_input.append(inp_float)\n",
    "        except:\n",
    "            print(\"Invalid input\")\n",
    "    else:\n",
    "        summed = sum(user_input)\n",
    "        counter = len(user_input)\n",
    "        print(int(summed), int(counter), summed/counter)\n",
    "        break"
   ]
  },
  {
   "cell_type": "markdown",
   "metadata": {},
   "source": [
    "### Problem 2: Euclid’s algorithm (30 minutes spent)\n",
    "I chose division-based version.\n",
    "#### 1"
   ]
  },
  {
   "cell_type": "code",
   "execution_count": 3,
   "metadata": {},
   "outputs": [],
   "source": [
    "def gcd(a, b):\n",
    "    while b != 0:\n",
    "       t = b\n",
    "       b = a%b\n",
    "       a = t\n",
    "    return a"
   ]
  },
  {
   "cell_type": "markdown",
   "metadata": {},
   "source": [
    "#### 2"
   ]
  },
  {
   "cell_type": "code",
   "execution_count": 6,
   "metadata": {},
   "outputs": [
    {
     "name": "stdout",
     "output_type": "stream",
     "text": [
      "(a) 2019, 2020 : GCD is 1\n",
      "(b) 1600, 400 : GCD is 400\n",
      "(c) 5040, 60 : GCD is 60\n"
     ]
    }
   ],
   "source": [
    "print(f\"(a) 2019, 2020 : GCD is {gcd(2019, 2020)}\")\n",
    "print(f\"(b) 1600, 400 : GCD is {gcd(1600, 400)}\")\n",
    "print(f\"(c) 5040, 60 : GCD is {gcd(5040, 60)}\")"
   ]
  },
  {
   "cell_type": "markdown",
   "metadata": {},
   "source": [
    "#### 3\n",
    "We examine three patterns as follows: right-side, left-side, both-side negative. GCD should always be a positive integer, therefore some of the following results are incorrect."
   ]
  },
  {
   "cell_type": "code",
   "execution_count": 7,
   "metadata": {},
   "outputs": [
    {
     "name": "stdout",
     "output_type": "stream",
     "text": [
      "(a) 2019, -2020 : GCD is -1\n",
      "(b) -1600, 400 : GCD is 400\n",
      "(c) -5040, -60 : GCD is -60\n"
     ]
    }
   ],
   "source": [
    "print(f\"(a) 2019, -2020 : GCD is {gcd(2019, -2020)}\")\n",
    "print(f\"(b) -1600, 400 : GCD is {gcd(-1600, 400)}\")\n",
    "print(f\"(c) -5040, -60 : GCD is {gcd(-5040, -60)}\")"
   ]
  },
  {
   "cell_type": "markdown",
   "metadata": {},
   "source": [
    "The sign of the results becomes negative when the latter argument (\"b\") is negative. This is caused by \"%\" operation in the function. We can see that when the left-side of \"%\" operation is negative, the result is also negative."
   ]
  },
  {
   "cell_type": "code",
   "execution_count": 9,
   "metadata": {},
   "outputs": [
    {
     "name": "stdout",
     "output_type": "stream",
     "text": [
      "-2\n",
      "2\n",
      "-2\n"
     ]
    }
   ],
   "source": [
    "print(10 % -4)\n",
    "print(-10 % 4)\n",
    "print(-10 % -4)"
   ]
  },
  {
   "cell_type": "markdown",
   "metadata": {},
   "source": [
    "We may use abs() for the return value of the function to avoid this problem."
   ]
  },
  {
   "cell_type": "markdown",
   "metadata": {},
   "source": [
    "### 3 Approximating Euler’s number e (1.5 hours spent)\n",
    "#### 1"
   ]
  },
  {
   "cell_type": "code",
   "execution_count": 10,
   "metadata": {},
   "outputs": [],
   "source": [
    "def euler_limit(n):\n",
    "    return (1+1/n)**n"
   ]
  },
  {
   "cell_type": "markdown",
   "metadata": {},
   "source": [
    "#### 2\n",
    "The result becomes 1 if n is larger than $10^{16}$. This seems to be caused by approximation for floating numbers in python ($1/10^{16}$ may be considered as 0.0). It seems that the representation of floating point number is only correct to the first 16 decimal points."
   ]
  },
  {
   "cell_type": "code",
   "execution_count": 13,
   "metadata": {},
   "outputs": [
    {
     "name": "stdout",
     "output_type": "stream",
     "text": [
      "3.035035206549262\n",
      "1.0\n",
      "1.0\n",
      "1.0\n"
     ]
    }
   ],
   "source": [
    "print(euler_limit(10**15))\n",
    "print(euler_limit(10**16))\n",
    "print(euler_limit(10**17))\n",
    "print(euler_limit(10**18))"
   ]
  },
  {
   "cell_type": "markdown",
   "metadata": {},
   "source": [
    "#### 3"
   ]
  },
  {
   "cell_type": "code",
   "execution_count": 14,
   "metadata": {},
   "outputs": [],
   "source": [
    "def factorial(f):\n",
    "    if f == 0 or f == 1:\n",
    "        return 1\n",
    "    else:\n",
    "        return f * factorial(f-1)\n",
    "\n",
    "def euler_sum(n):\n",
    "    list_to_be_summed = []\n",
    "    for i in range(n):\n",
    "        list_to_be_summed.append(1/factorial(i))\n",
    "    return sum(list_to_be_summed)"
   ]
  },
  {
   "cell_type": "markdown",
   "metadata": {},
   "source": [
    "#### 4"
   ]
  },
  {
   "cell_type": "code",
   "execution_count": 20,
   "metadata": {},
   "outputs": [],
   "source": [
    "import math\n",
    "def euler_approx(epsilon):\n",
    "    recursion = 1\n",
    "    while math.exp(1) - euler_sum(recursion) > epsilon:\n",
    "        recursion += 1\n",
    "    return euler_sum(recursion)"
   ]
  },
  {
   "cell_type": "markdown",
   "metadata": {},
   "source": [
    "#### 5"
   ]
  },
  {
   "cell_type": "code",
   "execution_count": 24,
   "metadata": {},
   "outputs": [
    {
     "name": "stdout",
     "output_type": "stream",
     "text": [
      "Errors for sum approximation:\n",
      "1.718281828459045\n",
      "0.7182818284590451\n",
      "0.2182818284590451\n",
      "0.05161516179237857\n",
      "0.009948495125712054\n",
      "0.0016151617923787498\n",
      "0.0002262729034896438\n",
      "2.7860205076724043e-05\n",
      "3.0586177750535626e-06\n",
      "3.0288585284310443e-07\n",
      "Errors for limit approximation:\n",
      "0.7182818284590451\n",
      "0.4682818284590451\n",
      "0.3479114580886753\n",
      "0.2768755784590451\n",
      "0.22996182845904567\n",
      "0.19665545671693163\n",
      "0.17178213141833298\n",
      "0.1524973145086972\n",
      "0.13710703674584668\n",
      "0.12453936835904278\n"
     ]
    }
   ],
   "source": [
    "def print_euler_sum_table(n):\n",
    "    for k in range(1, n+1):\n",
    "        print(math.exp(1) - euler_sum(k))\n",
    "\n",
    "\n",
    "def print_euler_lim_table(n):\n",
    "    for k in range(1, n+1):\n",
    "        print(math.exp(1) - euler_limit(k))\n",
    "\n",
    "print(\"Errors for sum approximation:\")\n",
    "print_euler_sum_table(10)\n",
    "print(\"Errors for limit approximation:\")\n",
    "print_euler_lim_table(10)"
   ]
  },
  {
   "cell_type": "markdown",
   "metadata": {},
   "source": [
    "#### 6\n",
    "From the above tables, we can see that the results for ***euler_sum*** is much better than ***euler_limit*** especially for larger values of k."
   ]
  },
  {
   "cell_type": "markdown",
   "metadata": {},
   "source": [
    "### 4 Testing Properties of an Integer (30 minutes spent)\n",
    "#### 1"
   ]
  },
  {
   "cell_type": "code",
   "execution_count": 29,
   "metadata": {},
   "outputs": [],
   "source": [
    "def is_power_of_2(n):\n",
    "    if n == 1:\n",
    "        return True\n",
    "    elif n % 2 == 0:\n",
    "        return is_power_of_2(n/2)\n",
    "    else:\n",
    "        return False"
   ]
  },
  {
   "cell_type": "markdown",
   "metadata": {},
   "source": [
    "#### 2"
   ]
  },
  {
   "cell_type": "code",
   "execution_count": 1,
   "metadata": {},
   "outputs": [],
   "source": [
    "def is_power(b, n):\n",
    "    if n == 1:\n",
    "        return True\n",
    "    elif b == 1:\n",
    "        if n == 1:\n",
    "            return True\n",
    "        else:\n",
    "            return False\n",
    "    elif n % b == 0:\n",
    "        return is_power(b,n/b)\n",
    "    else:\n",
    "        return False"
   ]
  }
 ],
 "metadata": {
  "kernelspec": {
   "display_name": "Python 3",
   "language": "python",
   "name": "python3"
  },
  "language_info": {
   "codemirror_mode": {
    "name": "ipython",
    "version": 3
   },
   "file_extension": ".py",
   "mimetype": "text/x-python",
   "name": "python",
   "nbconvert_exporter": "python",
   "pygments_lexer": "ipython3",
   "version": "3.7.4"
  }
 },
 "nbformat": 4,
 "nbformat_minor": 2
}
