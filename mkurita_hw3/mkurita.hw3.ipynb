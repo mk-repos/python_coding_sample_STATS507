{
 "cells": [
  {
   "cell_type": "markdown",
   "metadata": {},
   "source": [
    "## Stats507 Homework 3, Winter 2020\n",
    "### Moeki Kurita\n",
    "#### mkurita@umich.edu\n",
    "\n",
    "__Remark: For this homework, do not use \"input\" in your code!!!__\n",
    "\n",
    "Problem 1 took me 1.5 hour, Problem 2 - 3 hours, Problem 3 - 1.5 hour, Problem 4 - 45 minutes, Problem 5 - 1.5 hour, Problem 6 - 30 minutes"
   ]
  },
  {
   "cell_type": "code",
   "execution_count": 1,
   "metadata": {},
   "outputs": [],
   "source": [
    "# you might need to install pycodestyle_magic and flake8\n",
    "%load_ext pycodestyle_magic\n",
    "%pycodestyle_on"
   ]
  },
  {
   "cell_type": "markdown",
   "metadata": {},
   "source": [
    "### Problem 1: Counting Word Bigrams\n",
    "1. Write a function count_bigrams_in_file that takes a filename as its only argument."
   ]
  },
  {
   "cell_type": "code",
   "execution_count": 2,
   "metadata": {},
   "outputs": [],
   "source": [
    "import string\n",
    "\n",
    "\n",
    "def count_bigrams_in_file(filename):\n",
    "    try:\n",
    "        if type(filename) != str:\n",
    "            raise TypeError\n",
    "        with open(filename, 'r') as file_obj:\n",
    "            lines = file_obj.readlines()\n",
    "            words = []\n",
    "            for line in lines:\n",
    "                words.extend(line.translate(str.maketrans(\n",
    "                    '', '', string.punctuation)).strip().lower().split())\n",
    "        count_dict = dict()\n",
    "        for i in range(len(words)-1):\n",
    "            bigram = (words[i], words[i+1])\n",
    "            if bigram in count_dict:\n",
    "                count_dict[bigram] += 1\n",
    "            else:\n",
    "                count_dict[bigram] = 1\n",
    "        return count_dict\n",
    "    except TypeError:\n",
    "        raise TypeError('The argument must be a string')\n",
    "    except FileNotFoundError:\n",
    "        raise FileNotFoundError(\"The given file cannot be found\")"
   ]
  },
  {
   "cell_type": "code",
   "execution_count": 3,
   "metadata": {},
   "outputs": [
    {
     "data": {
      "text/plain": [
       "True"
      ]
     },
     "execution_count": 3,
     "metadata": {},
     "output_type": "execute_result"
    }
   ],
   "source": [
    "with open('./test.txt', 'w') as f:\n",
    "    f.write('Half a league, half a league,\\n Half a league onward.')\n",
    "\n",
    "count_bigrams_in_file('test.txt') == {('a', 'league'): 3,\n",
    "                                      ('half', 'a'): 3,\n",
    "                                      ('league', 'half'): 2,\n",
    "                                      ('league', 'onward'): 1}"
   ]
  },
  {
   "cell_type": "markdown",
   "metadata": {},
   "source": [
    "2. Run your function on this file, and pickle the resulting dictionary in a file called mb.bigrams.pickle."
   ]
  },
  {
   "cell_type": "code",
   "execution_count": 4,
   "metadata": {},
   "outputs": [],
   "source": [
    "import pickle\n",
    "\n",
    "bigram_dict = count_bigrams_in_file(\"WandP.txt\")\n",
    "\n",
    "with open(\"mb.bigrams.pickle\", \"wb\") as file_obj:\n",
    "    pickle.dump(bigram_dict, file_obj)"
   ]
  },
  {
   "cell_type": "markdown",
   "metadata": {},
   "source": [
    "3. Write a function collocations that takes a file name as its only argument and returns a dictionary."
   ]
  },
  {
   "cell_type": "code",
   "execution_count": 5,
   "metadata": {},
   "outputs": [],
   "source": [
    "def collocations(filename):\n",
    "    try:\n",
    "        if type(filename) != str:\n",
    "            raise TypeError\n",
    "        with open(filename, 'r') as file_obj:\n",
    "            lines = file_obj.readlines()\n",
    "            words = []\n",
    "            for line in lines:\n",
    "                words.extend(line.translate(str.maketrans(\n",
    "                    '', '', string.punctuation)).strip().lower().split())\n",
    "        all_bigrams_list = []\n",
    "        for i in range(len(words)-1):\n",
    "            bigram = (words[i], words[i+1])\n",
    "            all_bigrams_list.append(bigram)\n",
    "        result_dict = dict()\n",
    "        for tpl in all_bigrams_list:\n",
    "            for i in tpl:\n",
    "                result_dict[i] = result_dict.get(i, set())\n",
    "            result_dict[tpl[0]].add(tpl[1])\n",
    "            result_dict[tpl[1]].add(tpl[0])\n",
    "        return result_dict\n",
    "    except TypeError:\n",
    "        raise TypeError('The argument must be a string')\n",
    "    except FileNotFoundError:\n",
    "        raise FileNotFoundError(\"The given file cannot be found\")"
   ]
  },
  {
   "cell_type": "code",
   "execution_count": 6,
   "metadata": {},
   "outputs": [
    {
     "data": {
      "text/plain": [
       "True"
      ]
     },
     "execution_count": 6,
     "metadata": {},
     "output_type": "execute_result"
    }
   ],
   "source": [
    "collocations('test.txt') == {'half': {'league', 'a'},\n",
    "                             'a': {'half', 'league'},\n",
    "                             'league': {'onward', 'half', 'a'},\n",
    "                             'onward': {'league'}}"
   ]
  },
  {
   "cell_type": "markdown",
   "metadata": {},
   "source": [
    "4. Run your function on the file WandP.txt and pickle the resulting dictionary in a file called mb.colloc.pickle."
   ]
  },
  {
   "cell_type": "code",
   "execution_count": 7,
   "metadata": {},
   "outputs": [],
   "source": [
    "collocations_dict = collocations(\"WandP.txt\")\n",
    "\n",
    "with open(\"mb.colloc.pickle\", \"wb\") as file_obj:\n",
    "    pickle.dump(collocations_dict, file_obj)"
   ]
  },
  {
   "cell_type": "markdown",
   "metadata": {},
   "source": [
    "### Problem 2: More Fun with Vectors\n",
    "#### Define the class Vector in one code cell below, since class can't be declared several times.\n",
    "\n",
    "##### Answer for (2):\n",
    "I chose tuples, because tuples are immutable. When we make calculations between vectors (sum, product, etc.), original values should be protected from being modified. If not protected, the results of the same calculations may change everytime, which is not desirable.\n",
    "##### Answer for (3):\n",
    "I chose instance attributes. Class attributes will be shared across all instances of the class. We want to use various vectors with different dimensions or entries in a program, so each vector instance should have its own value."
   ]
  },
  {
   "cell_type": "code",
   "execution_count": 8,
   "metadata": {
    "scrolled": true
   },
   "outputs": [],
   "source": [
    "class Vector:\n",
    "    def __init__(self, dimension, entries=None):\n",
    "        if not isinstance(dimension, int):\n",
    "            raise TypeError('Dimension must be an integer')\n",
    "        if dimension < 0:\n",
    "            raise ValueError('Dimension cannot be a negative number')\n",
    "        if entries is None:\n",
    "            entries = [0]*dimension\n",
    "        if dimension != len(entries):\n",
    "            raise ValueError('Dimension and number of entries must be same')\n",
    "        if not all(isinstance(i, (int, float)) for i in entries):\n",
    "            raise TypeError('All entries must be an integer or float')\n",
    "        self.d = dimension\n",
    "        self.e = tuple(entries)\n",
    "\n",
    "    def __eq__(self, other):\n",
    "        if not isinstance(other, Vector):\n",
    "            return NotImplemented\n",
    "        if self.d != other.d:\n",
    "            raise ValueError(\"Same dimension required\")\n",
    "        return self.e == other.e\n",
    "\n",
    "    def __lt__(self, other):\n",
    "        if not isinstance(other, Vector):\n",
    "            return NotImplemented\n",
    "        if self.d != other.d:\n",
    "            raise ValueError(\"Same dimension required\")\n",
    "        return self.e < other.e\n",
    "\n",
    "    def __ne__(self, other):\n",
    "        return not self == other\n",
    "\n",
    "    def __le__(self, other):\n",
    "        return self < other or self == other\n",
    "\n",
    "    def __gt__(self, other):\n",
    "        return not self < other\n",
    "\n",
    "    def __ge__(self, other):\n",
    "        return not self < other\n",
    "\n",
    "    def dot(self, other):\n",
    "        if not isinstance(other, Vector):\n",
    "            raise TypeError(\"The argument must be a vector\")\n",
    "        if self.d != other.d:\n",
    "            raise ValueError(\"Same dimension required\")\n",
    "        summed = sum(self.e[i]*other.e[i] for i in range(self.d))\n",
    "        return summed\n",
    "\n",
    "    def __mul__(self, other):\n",
    "        if isinstance(other, Vector):\n",
    "            if self.d == other.d:\n",
    "                return Vector(self.d, [x*y for x, y in zip(self.e, other.e)])\n",
    "            else:\n",
    "                raise ValueError(\"Same dimension required\")\n",
    "        elif isinstance(other, (int, float)):\n",
    "            return Vector(self.d, [x*2 for x in self.e])\n",
    "        else:\n",
    "            raise TypeError(\"Multiplier must be a vector or int/float\")\n",
    "\n",
    "    def __rmul__(self, other):\n",
    "        return self*other\n",
    "\n",
    "    def norm(self, p):\n",
    "        if not isinstance(p, (int, float)):\n",
    "            raise TypeError(\"The input must be an int/float\")\n",
    "        elif p < 0:\n",
    "            raise ValueError(\"Negative-norm has not been defined\")\n",
    "        elif p == 0:\n",
    "            return sum(1 for i in self.e if i != 0)\n",
    "        elif p != float(\"inf\"):\n",
    "            return pow(sum(abs(i)**p for i in self.e), 1/p)\n",
    "        elif p == float(\"inf\"):\n",
    "            return max(abs(i) for i in self.e)"
   ]
  },
  {
   "cell_type": "code",
   "execution_count": 9,
   "metadata": {},
   "outputs": [
    {
     "name": "stdout",
     "output_type": "stream",
     "text": [
      "True\n",
      "True\n",
      "True\n",
      "True\n",
      "True\n",
      "True\n",
      "True\n",
      "True\n",
      "True\n",
      "True\n"
     ]
    }
   ],
   "source": [
    "# 2.1\n",
    "print(isinstance(Vector(3, (1, 2, 3)), Vector))\n",
    "\n",
    "# 2.4\n",
    "print((Vector(3, (1, 2, 3)) > Vector(3, (1, 2, 2))) == (True))\n",
    "print((Vector(3, (1, 2, 3)) >= Vector(3, (1, 2, 2))) == (True))\n",
    "print((Vector(3, (1, 2, 3)) < Vector(3, (1, 2, 2))) == (False))\n",
    "print((Vector(3, (1, 2, 3)) <= Vector(3, (1, 2, 2))) == (False))\n",
    "print((Vector(3, (1, 2, 3)) == Vector(3, (1, 2, 2))) == (False))\n",
    "\n",
    "# 2.5\n",
    "print((Vector(3, (1, 2, 3)).dot(Vector(3, (1, 2, 2)))) == 11.0)\n",
    "\n",
    "# 2.6\n",
    "print(2 * Vector(3, (1, 2, 3)) == Vector(3, (2, 4, 6)))\n",
    "print(Vector(3, (1, 2, 3)) * 2 == Vector(3, (2, 4, 6)))\n",
    "\n",
    "# 2.7\n",
    "print(Vector(3, (1, 2, 3)).norm(1) == 6.0)"
   ]
  },
  {
   "cell_type": "markdown",
   "metadata": {},
   "source": [
    "###  Problem 3: Iterators and Generators\n",
    "1. Define a class Fibo of iterators that enumerate the Fibonacci numbers."
   ]
  },
  {
   "cell_type": "code",
   "execution_count": 10,
   "metadata": {},
   "outputs": [],
   "source": [
    "class Fibo():\n",
    "    def __init__(self):\n",
    "        self.a, self.b = 0, 1\n",
    "\n",
    "    def __iter__(self):\n",
    "        return self\n",
    "\n",
    "    def __next__(self):\n",
    "        yielded = self.a\n",
    "        self.a, self.b = self.b, self.a + self.b\n",
    "        return yielded"
   ]
  },
  {
   "cell_type": "code",
   "execution_count": 11,
   "metadata": {},
   "outputs": [
    {
     "data": {
      "text/plain": [
       "True"
      ]
     },
     "execution_count": 11,
     "metadata": {},
     "output_type": "execute_result"
    }
   ],
   "source": [
    "ans = Fibo()\n",
    "[next(ans) for _ in range(10)] == [0, 1, 1, 2, 3, 5, 8, 13, 21, 34]"
   ]
  },
  {
   "cell_type": "markdown",
   "metadata": {},
   "source": [
    "2. Define a class GenFibo of iterators that enumerate generalized Fibonacci numbers."
   ]
  },
  {
   "cell_type": "code",
   "execution_count": 12,
   "metadata": {},
   "outputs": [],
   "source": [
    "class GenFibo(Fibo):\n",
    "    def __init__(self, f_0=0, f_1=1):\n",
    "        self.a, self.b = f_0, f_1"
   ]
  },
  {
   "cell_type": "code",
   "execution_count": 13,
   "metadata": {},
   "outputs": [
    {
     "data": {
      "text/plain": [
       "True"
      ]
     },
     "execution_count": 13,
     "metadata": {},
     "output_type": "execute_result"
    }
   ],
   "source": [
    "ans = GenFibo(2, 1)\n",
    "[next(ans) for _ in range(10)] == [2, 1, 3, 4, 7, 11, 18, 29, 47, 76]"
   ]
  },
  {
   "cell_type": "markdown",
   "metadata": {},
   "source": [
    "3. Define a generator primes that enumerates the prime numbers.\n",
    "#### You may use the function is_prime that we defined in class (or something similar to it), but such solutions will not receive full credit"
   ]
  },
  {
   "cell_type": "code",
   "execution_count": 14,
   "metadata": {},
   "outputs": [],
   "source": [
    "def primes(p=2):\n",
    "    while True:\n",
    "        while any(p % x == 0 for x in range(2, p)):\n",
    "            p += 1\n",
    "        yield p\n",
    "        p += 1"
   ]
  },
  {
   "cell_type": "code",
   "execution_count": 15,
   "metadata": {},
   "outputs": [
    {
     "data": {
      "text/plain": [
       "True"
      ]
     },
     "execution_count": 15,
     "metadata": {},
     "output_type": "execute_result"
    }
   ],
   "source": [
    "ans = primes()\n",
    "[next(ans) for _ in range(10)] == [2, 3, 5, 7, 11, 13, 17, 19, 23, 29]"
   ]
  },
  {
   "cell_type": "markdown",
   "metadata": {},
   "source": [
    "4. Define a generator ulam that enumerates the Ulam numbers."
   ]
  },
  {
   "cell_type": "code",
   "execution_count": 16,
   "metadata": {},
   "outputs": [],
   "source": [
    "import itertools as itls\n",
    "\n",
    "\n",
    "def whether_distinct(l, i):\n",
    "    ways = 0\n",
    "    ways += sum(1 for c in itls.combinations(l, 2) if i == sum(c))\n",
    "    return ways == 1\n",
    "\n",
    "\n",
    "def ulam(u=1):\n",
    "    t = []\n",
    "    while True:\n",
    "        if u <= 2:\n",
    "            yield u\n",
    "            t.append(u)\n",
    "            u += 1\n",
    "        elif u > 2:\n",
    "            if whether_distinct(t, u):\n",
    "                yield u\n",
    "                t.append(u)\n",
    "                u += 1\n",
    "            else:\n",
    "                u += 1"
   ]
  },
  {
   "cell_type": "code",
   "execution_count": 17,
   "metadata": {},
   "outputs": [
    {
     "data": {
      "text/plain": [
       "True"
      ]
     },
     "execution_count": 17,
     "metadata": {},
     "output_type": "execute_result"
    }
   ],
   "source": [
    "ans = ulam()\n",
    "[next(ans) for _ in range(10)] == [1, 2, 3, 4, 6, 8, 11, 13, 16, 18]"
   ]
  },
  {
   "cell_type": "markdown",
   "metadata": {},
   "source": [
    "###  Problem 4: List Comprehensions and Generator Expressions (5 points)\n",
    "1. Write a list comprehension that enumerates the sequence $3^n - 1$ for n = 1, 2, 3, ..., 20."
   ]
  },
  {
   "cell_type": "code",
   "execution_count": 18,
   "metadata": {},
   "outputs": [],
   "source": [
    "pow3minus1 = [(3**n)-1 for n in range(1, 21)]"
   ]
  },
  {
   "cell_type": "markdown",
   "metadata": {},
   "source": [
    "2. Write a generator expression that enumerates the Lazy Caterer's sequence. Please assign this generator expression to a variable called caterer."
   ]
  },
  {
   "cell_type": "code",
   "execution_count": 19,
   "metadata": {},
   "outputs": [],
   "source": [
    "def non_neg_gen():\n",
    "    i = 0\n",
    "    while True:\n",
    "        yield i\n",
    "        i += 1\n",
    "\n",
    "\n",
    "caterer = (((n**2)+n+2)/2 for n in non_neg_gen())"
   ]
  },
  {
   "cell_type": "markdown",
   "metadata": {},
   "source": [
    "3. Write a generator expression that enumerates the pyramid numbers."
   ]
  },
  {
   "cell_type": "code",
   "execution_count": 20,
   "metadata": {},
   "outputs": [],
   "source": [
    "def pos_gen():\n",
    "    i = 1\n",
    "    while True:\n",
    "        yield i\n",
    "        i += 1\n",
    "\n",
    "\n",
    "pyramid = ((n*(n+1)*(2*n+1))/6 for n in pos_gen())"
   ]
  },
  {
   "cell_type": "markdown",
   "metadata": {},
   "source": [
    "4. Write a generator expression that enumerates the octahedral numbers."
   ]
  },
  {
   "cell_type": "code",
   "execution_count": 21,
   "metadata": {},
   "outputs": [],
   "source": [
    "def pyra_gen(n):\n",
    "    return (n*(n+1)*(2*n+1))/6\n",
    "\n",
    "\n",
    "octa = (sum(map(pyra_gen, [n, n-1])) for n in pos_gen())"
   ]
  },
  {
   "cell_type": "markdown",
   "metadata": {},
   "source": [
    "### Problem 5: Map, Filter and Reduce\n",
    "1. Write a one-line expression that computes the sum of the first 10 odd  (starting from 1)."
   ]
  },
  {
   "cell_type": "code",
   "execution_count": 1,
   "metadata": {},
   "outputs": [],
   "source": [
    "import functools as ftls\n",
    "\n",
    "sum_of_odd_numbers = ftls.reduce(lambda x, y: x+y,\n",
    "                                 filter(lambda n: n % 2 != 0, range(20)), 0)"
   ]
  },
  {
   "cell_type": "markdown",
   "metadata": {},
   "source": [
    "2. Write a one-line expression that computes the product of the first 13 primes. You may use the primes generator that you defined above. Please assign the output of this expression to a variable called product_of_primes."
   ]
  },
  {
   "cell_type": "code",
   "execution_count": 23,
   "metadata": {},
   "outputs": [
    {
     "name": "stdout",
     "output_type": "stream",
     "text": [
      "304250263527210\n"
     ]
    }
   ],
   "source": [
    "prm_gen = primes()\n",
    "\n",
    "product_of_primes = ftls.reduce(lambda x, y: x*y,\n",
    "                                [next(prm_gen) for _ in range(13)], 1)\n",
    "print(product_of_primes)"
   ]
  },
  {
   "cell_type": "markdown",
   "metadata": {},
   "source": [
    "3. Write a one-line expression that computes the sum of the squares of the first 31 primes. You may use the primes generator that you defined above. Please assign the output of this expression to a variable called squared_primes."
   ]
  },
  {
   "cell_type": "code",
   "execution_count": 1,
   "metadata": {},
   "outputs": [
    {
     "ename": "NameError",
     "evalue": "name 'primes' is not defined",
     "output_type": "error",
     "traceback": [
      "\u001b[0;31m---------------------------------------------------------------------------\u001b[0m",
      "\u001b[0;31mNameError\u001b[0m                                 Traceback (most recent call last)",
      "\u001b[0;32m<ipython-input-1-c37128596404>\u001b[0m in \u001b[0;36m<module>\u001b[0;34m\u001b[0m\n\u001b[0;32m----> 1\u001b[0;31m \u001b[0mprm_gen2\u001b[0m \u001b[0;34m=\u001b[0m \u001b[0mprimes\u001b[0m\u001b[0;34m(\u001b[0m\u001b[0;34m)\u001b[0m\u001b[0;34m\u001b[0m\u001b[0;34m\u001b[0m\u001b[0m\n\u001b[0m\u001b[1;32m      2\u001b[0m \u001b[0;34m\u001b[0m\u001b[0m\n\u001b[1;32m      3\u001b[0m squared_primes = ftls.reduce(lambda x, y: x+y,\n\u001b[1;32m      4\u001b[0m                              map(lambda x: x**2,\n\u001b[1;32m      5\u001b[0m                                  [next(prm_gen2) for _ in range(31)]), 0)\n",
      "\u001b[0;31mNameError\u001b[0m: name 'primes' is not defined"
     ]
    }
   ],
   "source": [
    "prm_gen2 = primes()\n",
    "\n",
    "squared_primes = ftls.reduce(lambda x, y: x+y,\n",
    "                             map(lambda x: x**2,\n",
    "                                 [next(prm_gen2) for _ in range(31)]), 0)"
   ]
  },
  {
   "cell_type": "markdown",
   "metadata": {},
   "source": [
    "4. Write a one-line expression that computes a list of the first twenty harmonic numbers. Please assign the output of this expression to a variable called harmonics."
   ]
  },
  {
   "cell_type": "code",
   "execution_count": 25,
   "metadata": {},
   "outputs": [],
   "source": [
    "harmonics = [i for i in itls.accumulate([1/k for k in range(1, 21)])]"
   ]
  },
  {
   "cell_type": "markdown",
   "metadata": {},
   "source": [
    "5. Write a one-line expression that computes the geometric mean of the first 12 octahedral numbers."
   ]
  },
  {
   "cell_type": "code",
   "execution_count": 26,
   "metadata": {},
   "outputs": [
    {
     "name": "stdout",
     "output_type": "stream",
     "text": [
      "104.36220448693885\n"
     ]
    }
   ],
   "source": [
    "octa2 = (sum(map(pyra_gen, [n, n-1])) for n in pos_gen())\n",
    "\n",
    "octa_geom = (ftls.reduce(lambda x, y: x*y,\n",
    "                         [next(octa2) for _ in range(12)], 1))**(1/12)\n",
    "print(octa_geom)"
   ]
  },
  {
   "cell_type": "markdown",
   "metadata": {},
   "source": [
    "### Problem 4: Fun with Polynomials\n",
    "1. Write a function make_poly that takes a list of numbers (ints and/or foats) coeffs as its only argument and returns a function p."
   ]
  },
  {
   "cell_type": "code",
   "execution_count": 27,
   "metadata": {},
   "outputs": [],
   "source": [
    "def make_poly(coeffs):\n",
    "    def p(x):\n",
    "        return ftls.reduce(lambda a, b: a+b,\n",
    "                           [coeffs[i]*(x**i) for i in range(len(coeffs))], 0)\n",
    "    return p"
   ]
  },
  {
   "cell_type": "code",
   "execution_count": 28,
   "metadata": {},
   "outputs": [
    {
     "data": {
      "text/plain": [
       "True"
      ]
     },
     "execution_count": 28,
     "metadata": {},
     "output_type": "execute_result"
    }
   ],
   "source": [
    "make_poly([1, 3, 4])(2) == 23"
   ]
  },
  {
   "cell_type": "markdown",
   "metadata": {},
   "source": [
    "2. Write a function eval_poly that takes two lists of numbers (ints and/or foats), coeffs and args."
   ]
  },
  {
   "cell_type": "code",
   "execution_count": 29,
   "metadata": {},
   "outputs": [],
   "source": [
    "def eval_poly(coeffs, args):\n",
    "    return [make_poly(coeffs)(elm) for elm in args]"
   ]
  },
  {
   "cell_type": "code",
   "execution_count": 30,
   "metadata": {},
   "outputs": [
    {
     "data": {
      "text/plain": [
       "True"
      ]
     },
     "execution_count": 30,
     "metadata": {},
     "output_type": "execute_result"
    }
   ],
   "source": [
    "eval_poly([1, 3, 4], [2, 3]) == [23, 46]"
   ]
  }
 ],
 "metadata": {
  "kernelspec": {
   "display_name": "Python 3",
   "language": "python",
   "name": "python3"
  },
  "language_info": {
   "codemirror_mode": {
    "name": "ipython",
    "version": 3
   },
   "file_extension": ".py",
   "mimetype": "text/x-python",
   "name": "python",
   "nbconvert_exporter": "python",
   "pygments_lexer": "ipython3",
   "version": "3.7.4"
  }
 },
 "nbformat": 4,
 "nbformat_minor": 2
}
