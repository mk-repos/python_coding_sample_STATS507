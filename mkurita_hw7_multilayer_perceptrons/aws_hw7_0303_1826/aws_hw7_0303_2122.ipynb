{
 "cells": [
  {
   "cell_type": "markdown",
   "metadata": {},
   "source": [
    "# Homework 7: Multilayer Perceptrons\n",
    "\n",
    "**name:** XX\n",
    "\n",
    "**email:** XX@umich.edu\n",
    "\n",
    "**I discussed XX with XX.** (List *everyone* with whom you discussed any of the homework problems, excluding only the GSIs and the course instructor. If you did not discuss the homework with anyone else, write \"I did not discuss this homework with anyone.\" Even if you discuss questions with others, you may not copy other students' solutions: the code you submit must be yours alone. All work is checked with the [MOSS plagiarism detector](https://theory.stanford.edu/~aiken/moss/).)\n",
    "\n",
    "**This homework assignment took me XX hours in total to complete.** (Please help us to gauge the difficulty of the assignment.)\n",
    "\n",
    "### Submission Instructions\n",
    "Your homework solutions should be written entirely in this Jupyter notebook file. Once it contains your solutions, you should submit this notebook through Canvas. Before submitting, please make sure make sure __Cells->Run__ executes without errors; errors in your code cause problems for our auto-grader. Thus, even though we frequently ask you to check for errors in your functions, you should not include in your submission any examples of your functions actually raising those errors.\n",
    "\n",
    "### Pillow\n",
    "Note that Python's Imaging Library (PIL) can be installed via\n",
    "\n",
    "    conda install pillow\n",
    "    \n",
    "or\n",
    "\n",
    "    pip install pillow\n",
    "\n",
    "\n",
    "### Credits\n",
    "This homework assignment is based on a homework assignment written by Sebastian Raschka (sraschka@wisc.edu)\n",
    "The dataset is from him too. Please do not distribute this modified version of his work.\n",
    "\n",
    "### Supplemental Data Files\n",
    "Run the following code to download the supplemental files you will need to complete this homework:"
   ]
  },
  {
   "cell_type": "code",
   "execution_count": 1,
   "metadata": {},
   "outputs": [],
   "source": [
    "from urllib import request\n",
    "from os import path\n",
    "from zipfile import ZipFile\n",
    "\n",
    "url = \"https://regier.stat.lsa.umich.edu/stats507/\"\n",
    "fn = \"hw7data.zip\"\n",
    "if not path.exists(fn):\n",
    "    data = request.urlopen(url + fn).read()\n",
    "    with open(fn, 'wb') as fhand:\n",
    "        fhand.write(data)\n",
    "    with ZipFile(fn, 'r') as zipObj:\n",
    "        zipObj.extractall()"
   ]
  },
  {
   "cell_type": "markdown",
   "metadata": {},
   "source": [
    "### Coding style\n",
    "Please follow the [PEP8 guidelines](https://www.python.org/dev/peps/pep-0008/). The `pycodestyle_magic` package will remind you if you are not. To install it, run\n",
    "```\n",
    "pip install flake8 pycodestyle_magic\n",
    "```\n",
    "Once it is installed the following two Jupyter directives will enable syntax checking:"
   ]
  },
  {
   "cell_type": "code",
   "execution_count": 2,
   "metadata": {},
   "outputs": [],
   "source": [
    "%load_ext pycodestyle_magic\n",
    "%pycodestyle_on"
   ]
  },
  {
   "cell_type": "markdown",
   "metadata": {},
   "source": [
    "## Problem 1 (20 points)\n",
    "\n",
    "Modify the Multilayer Perceptron implementation below to achieve a better performance. In particular,\n",
    "- Your Validation and Test set accuracies should be >= 92%\n",
    "- Answer the questions at the bottom of this notebook"
   ]
  },
  {
   "cell_type": "markdown",
   "metadata": {},
   "source": [
    "Please read and execute this notebook first to make sure everything works correctly. Then, make any changes to the architecture, i.e., you can change\n",
    "\n",
    "- the number of layers\n",
    "- the activation function(s) (logistic sigmoid, tanh, relu, leaky relu, ...)\n",
    "- the learning rate\n",
    "- the number of hidden layers\n",
    "- the number of units in the hidden layer(s)\n",
    "- the number of epochs\n",
    "- the minibatch size\n",
    "\n",
    "However,\n",
    "\n",
    "- don't change the weight initialization\n",
    "- don't change the random seed\n",
    "- don't change the optimization algorithm"
   ]
  },
  {
   "cell_type": "code",
   "execution_count": 3,
   "metadata": {},
   "outputs": [],
   "source": [
    "import torch\n",
    "import os\n",
    "import pandas as pd\n",
    "import numpy as np\n",
    "import time\n",
    "from PIL import Image\n",
    "from torch.utils.data import Dataset\n",
    "from torchvision import transforms\n",
    "from torch.utils.data import DataLoader\n",
    "import torch.nn.functional as F\n",
    "import matplotlib.pyplot as plt\n",
    "%matplotlib inline"
   ]
  },
  {
   "cell_type": "code",
   "execution_count": 4,
   "metadata": {},
   "outputs": [],
   "source": [
    "# No need to change anything here!\n",
    "# If there is a GPU available, it will use it,\n",
    "# otherwise, it will use the CPU\n",
    "\n",
    "RANDOM_SEED = 123\n",
    "DEVICE = torch.device('cuda:0' if torch.cuda.is_available() else 'cpu')\n",
    "\n",
    "# NOTE: I actually noticed that this code runs faster on the CPU than on the\n",
    "# GPU, because the dataset is so small. However, you are encouraged to try\n",
    "# out training on a GPU, e.g., via Google Colab."
   ]
  },
  {
   "cell_type": "markdown",
   "metadata": {},
   "source": [
    "### Loading the Dataset"
   ]
  },
  {
   "cell_type": "markdown",
   "metadata": {},
   "source": [
    "The dataset consists of 3 classes:\n",
    "- Drawings of \"birds\" (class 0)\n",
    "- Drawings of \"pizzas\" (class 1)\n",
    "- Drawings of \"screwdrivers\" (class 2)\n",
    "\n",
    "(The dataset is based on Google Quickdraw: I wrote a script to fetch the images from the database here: https://quickdraw.withgoogle.com/data)"
   ]
  },
  {
   "cell_type": "markdown",
   "metadata": {},
   "source": [
    "The dataset is very small on purpose so that the training should be relatively fast (but this wouldn't be an ideal DL dataset because of its small size)."
   ]
  },
  {
   "cell_type": "code",
   "execution_count": 5,
   "metadata": {},
   "outputs": [
    {
     "name": "stdout",
     "output_type": "stream",
     "text": [
      "Class distribution Train [8005 7669 6826]\n"
     ]
    }
   ],
   "source": [
    "df_train = pd.read_csv('train.csv')\n",
    "print('Class distribution Train', np.bincount(df_train['Class Label'].values))"
   ]
  },
  {
   "cell_type": "markdown",
   "metadata": {},
   "source": [
    "The images are 28x28 dimensional (grayscale)."
   ]
  },
  {
   "cell_type": "markdown",
   "metadata": {},
   "source": [
    "Some examples:"
   ]
  },
  {
   "cell_type": "code",
   "execution_count": 6,
   "metadata": {},
   "outputs": [
    {
     "name": "stdout",
     "output_type": "stream",
     "text": [
      "png-files/bird_000043.png\n"
     ]
    },
    {
     "data": {
      "image/png": "[encoded data removed]",
      "text/plain": [
       "<Figure size 432x288 with 1 Axes>"
      ]
     },
     "metadata": {
      "needs_background": "light"
     },
     "output_type": "display_data"
    },
    {
     "name": "stdout",
     "output_type": "stream",
     "text": [
      "png-files/bird_000107.png\n"
     ]
    },
    {
     "data": {
      "image/png": "[encoded data removed]",
      "text/plain": [
       "<Figure size 432x288 with 1 Axes>"
      ]
     },
     "metadata": {
      "needs_background": "light"
     },
     "output_type": "display_data"
    },
    {
     "name": "stdout",
     "output_type": "stream",
     "text": [
      "png-files/pizza_000000.png\n"
     ]
    },
    {
     "data": {
      "image/png": "[encoded data removed]",
      "text/plain": [
       "<Figure size 432x288 with 1 Axes>"
      ]
     },
     "metadata": {
      "needs_background": "light"
     },
     "output_type": "display_data"
    },
    {
     "name": "stdout",
     "output_type": "stream",
     "text": [
      "png-files/pizza_000002.png\n"
     ]
    },
    {
     "data": {
      "image/png": "[encoded data removed]",
      "text/plain": [
       "<Figure size 432x288 with 1 Axes>"
      ]
     },
     "metadata": {
      "needs_background": "light"
     },
     "output_type": "display_data"
    },
    {
     "name": "stdout",
     "output_type": "stream",
     "text": [
      "png-files/screwdriver_000001.png\n"
     ]
    },
    {
     "data": {
      "image/png": "[encoded data removed]",
      "text/plain": [
       "<Figure size 432x288 with 1 Axes>"
      ]
     },
     "metadata": {
      "needs_background": "light"
     },
     "output_type": "display_data"
    },
    {
     "name": "stdout",
     "output_type": "stream",
     "text": [
      "png-files/screwdriver_000012.png\n"
     ]
    },
    {
     "data": {
      "image/png": "[encoded data removed]",
      "text/plain": [
       "<Figure size 432x288 with 1 Axes>"
      ]
     },
     "metadata": {
      "needs_background": "light"
     },
     "output_type": "display_data"
    }
   ],
   "source": [
    "import glob\n",
    "image_paths = sorted(glob.glob('png-files/*.png'))\n",
    "for i in (12, 25, 30000, 30001, 60000, 60005):\n",
    "    im_path = image_paths[i]\n",
    "    print(im_path)\n",
    "    im = Image.open(im_path)\n",
    "    plt.imshow(im)\n",
    "    plt.show()"
   ]
  },
  {
   "cell_type": "markdown",
   "metadata": {},
   "source": [
    "---\n",
    "\n",
    "- The only thing you should change in this section during experimenting is the batch size\n",
    "- However, it is not required to make changes to the batch size"
   ]
  },
  {
   "cell_type": "code",
   "execution_count": 7,
   "metadata": {},
   "outputs": [],
   "source": [
    "class QuickdrawDataset(Dataset):\n",
    "    \"\"\"Custom Dataset for loading Quickdraw images\"\"\"\n",
    "\n",
    "    def __init__(self, csv_path, img_dir, transform=None):\n",
    "\n",
    "        df = pd.read_csv(csv_path)\n",
    "        self.img_dir = img_dir\n",
    "        self.img_names = df['Filename'].values\n",
    "        self.y = df['Class Label'].values\n",
    "        self.transform = transform\n",
    "\n",
    "    def __getitem__(self, index):\n",
    "        img = Image.open(os.path.join(self.img_dir,\n",
    "                                      self.img_names[index]))\n",
    "\n",
    "        if self.transform is not None:\n",
    "            img = self.transform(img)\n",
    "\n",
    "        label = self.y[index]\n",
    "        return img, label\n",
    "\n",
    "    def __len__(self):\n",
    "        return self.y.shape[0]"
   ]
  },
  {
   "cell_type": "code",
   "execution_count": 8,
   "metadata": {},
   "outputs": [],
   "source": [
    "# Note that transforms.ToTensor()\n",
    "# already divides pixels by 255. internally\n",
    "custom_transform = transforms.Compose([transforms.ToTensor()])\n",
    "\n",
    "\n",
    "train_dataset = QuickdrawDataset(csv_path='train.csv',\n",
    "                                 img_dir='png-files/',\n",
    "                                 transform=custom_transform)\n",
    "\n",
    "train_loader = DataLoader(dataset=train_dataset,\n",
    "                          batch_size=128,  # CHANGE IF YOU LIKE\n",
    "                          shuffle=True,\n",
    "                          num_workers=0)  # Changed\n",
    "\n",
    "\n",
    "valid_dataset = QuickdrawDataset(csv_path='valid.csv',\n",
    "                                 img_dir='png-files/',\n",
    "                                 transform=custom_transform)\n",
    "\n",
    "valid_loader = DataLoader(dataset=valid_dataset,\n",
    "                          batch_size=128,\n",
    "                          shuffle=False,\n",
    "                          num_workers=0)  # Changed\n",
    "\n",
    "test_dataset = QuickdrawDataset(csv_path='test.csv',\n",
    "                                img_dir='png-files/',\n",
    "                                transform=custom_transform)\n",
    "\n",
    "test_loader = DataLoader(dataset=test_dataset,\n",
    "                         batch_size=128,\n",
    "                         shuffle=False,\n",
    "                         num_workers=0)  # Changed"
   ]
  },
  {
   "cell_type": "markdown",
   "metadata": {},
   "source": [
    "The cell below just checks if the dataset can be loaded correctly."
   ]
  },
  {
   "cell_type": "code",
   "execution_count": 9,
   "metadata": {},
   "outputs": [
    {
     "name": "stdout",
     "output_type": "stream",
     "text": [
      "Epoch: 1 | Batch index: 0 | Batch size: 128\n",
      "break minibatch for-loop\n",
      "Epoch: 2 | Batch index: 0 | Batch size: 128\n",
      "break minibatch for-loop\n"
     ]
    }
   ],
   "source": [
    "torch.manual_seed(0)\n",
    "\n",
    "num_epochs = 2\n",
    "for epoch in range(num_epochs):\n",
    "\n",
    "    for batch_idx, (x, y) in enumerate(train_loader):\n",
    "\n",
    "        print('Epoch:', epoch+1, end='')\n",
    "        print(' | Batch index:', batch_idx, end='')\n",
    "        print(' | Batch size:', y.size()[0])\n",
    "\n",
    "        x = x.to(DEVICE)\n",
    "        y = y.to(DEVICE)\n",
    "\n",
    "        print('break minibatch for-loop')\n",
    "        break"
   ]
  },
  {
   "cell_type": "markdown",
   "metadata": {},
   "source": [
    "If you get an error, make sure the `png-files` folder is unzipped and it the same directory as this notebook!"
   ]
  },
  {
   "cell_type": "markdown",
   "metadata": {},
   "source": [
    "### Multilayer Perceptron Model"
   ]
  },
  {
   "cell_type": "markdown",
   "metadata": {},
   "source": [
    "The cell below contains the multi-layer perceptron model. This is the main section where you want to make changes to the architecture."
   ]
  },
  {
   "cell_type": "code",
   "execution_count": 10,
   "metadata": {},
   "outputs": [],
   "source": [
    "class MLP(torch.nn.Module):\n",
    "\n",
    "    def __init__(self, num_features, num_hidden_1, num_hidden_2, num_hidden_3,\n",
    "                 num_hidden_4, num_hidden_5, num_hidden_6, num_hidden_7,\n",
    "                 drop_proba, num_classes):\n",
    "        super(MLP, self).__init__()\n",
    "\n",
    "        self.drop_proba = drop_proba\n",
    "        self.num_classes = num_classes\n",
    "\n",
    "        # ADD ADDITIONAL LAYERS BELOW IF YOU LIKE\n",
    "        self.linear_1 = torch.nn.Linear(num_features, num_hidden_1)\n",
    "        self.linear_2 = torch.nn.Linear(num_hidden_1, num_hidden_2)\n",
    "        self.linear_3 = torch.nn.Linear(num_hidden_2, num_hidden_3)\n",
    "        self.linear_4 = torch.nn.Linear(num_hidden_3, num_hidden_4)\n",
    "        self.linear_5 = torch.nn.Linear(num_hidden_4, num_hidden_5)\n",
    "        self.linear_6 = torch.nn.Linear(num_hidden_5, num_hidden_6)\n",
    "        self.linear_7 = torch.nn.Linear(num_hidden_6, num_hidden_7)\n",
    "        self.linear_out = torch.nn.Linear(num_hidden_7, num_classes)\n",
    "\n",
    "    def forward(self, x):\n",
    "        # MAKE SURE YOU CONNECT THE LAYERS PROPERLY IF YOU CHANGED\n",
    "        # ANYTHNG IN THE __init__ METHOD ABOVE\n",
    "        out = self.linear_1(x)\n",
    "        out = F.relu(out)\n",
    "#         out = F.dropout(out, p=self.drop_proba, training=self.training)\n",
    "        out = self.linear_2(out)\n",
    "        out = F.relu(out)\n",
    "#         out = F.dropout(out, p=self.drop_proba, training=self.training)\n",
    "        out = self.linear_3(out)\n",
    "        out = F.relu(out)\n",
    "#         out = F.dropout(out, p=self.drop_proba, training=self.training)\n",
    "        out = self.linear_4(out)\n",
    "        out = F.relu(out)\n",
    "#         out = F.dropout(out, p=self.drop_proba, training=self.training)\n",
    "        out = self.linear_5(out)\n",
    "        out = F.relu(out)\n",
    "#         out = F.dropout(out, p=self.drop_proba, training=self.training)\n",
    "        out = self.linear_6(out)\n",
    "        out = F.relu(out)\n",
    "#         out = F.dropout(out, p=self.drop_proba, training=self.training)\n",
    "        out = self.linear_7(out)\n",
    "        out = F.relu(out)\n",
    "#         out = F.dropout(out, p=self.drop_proba, training=self.training)\n",
    "        out = torch.sigmoid(out)\n",
    "\n",
    "        logits = self.linear_out(out)\n",
    "        probas = F.softmax(logits, dim=1)\n",
    "        return logits, probas\n",
    "\n",
    "\n",
    "# Model Initialization\n",
    "\n",
    "\n",
    "# the random seed makes sure that the random weight initialization\n",
    "# in the model is always the same.\n",
    "# In practice, some weights don't work well, and we may also want\n",
    "# to try different random seeds. In this homework, this is not\n",
    "# necessary.\n",
    "torch.manual_seed(RANDOM_SEED)\n",
    "\n",
    "# IF YOU CHANGED THE ARCHITECTURE ABOVE, MAKE SURE YOU\n",
    "# ACCOUNT FOR IT VIA THE PARAMETERS BELOW. I.e., if you\n",
    "# added a second hidden layer, you may want to add a\n",
    "# hidden_2 parameter here. Also you may want to play\n",
    "# with the number of hidden units.\n",
    "model = MLP(num_features=28*28,\n",
    "            num_hidden_1=50,\n",
    "            num_hidden_2=50,\n",
    "            num_hidden_3=50,\n",
    "            num_hidden_4=50,\n",
    "            num_hidden_5=50,\n",
    "            num_hidden_6=50,\n",
    "            num_hidden_7=50,\n",
    "            drop_proba=0.5,\n",
    "            num_classes=3)\n",
    "\n",
    "model = model.to(DEVICE)\n",
    "\n",
    "\n",
    "# For this homework, do not change the optimizer. However, you\n",
    "# likely want to experiment with the learning rate!\n",
    "optimizer = torch.optim.SGD(model.parameters(), lr=0.05)"
   ]
  },
  {
   "cell_type": "code",
   "execution_count": 11,
   "metadata": {},
   "outputs": [
    {
     "name": "stdout",
     "output_type": "stream",
     "text": [
      "Epoch: 001/060 | Batch 000/176 | Cost: 1.0789\n",
      "Epoch: 001/060 | Batch 050/176 | Cost: 1.0873\n",
      "Epoch: 001/060 | Batch 100/176 | Cost: 1.0927\n",
      "Epoch: 001/060 | Batch 150/176 | Cost: 1.0967\n",
      "Epoch: 001/060 Train Cost: 1.0968\n",
      "Train Accuracy: 35.578 | Validation Accuracy: 34.920\n",
      "Time elapsed: 0.49 min\n",
      "Epoch: 002/060 | Batch 000/176 | Cost: 1.1008\n",
      "Epoch: 002/060 | Batch 050/176 | Cost: 1.0973\n",
      "Epoch: 002/060 | Batch 100/176 | Cost: 1.0977\n",
      "Epoch: 002/060 | Batch 150/176 | Cost: 1.0959\n",
      "Epoch: 002/060 Train Cost: 1.1009\n",
      "Train Accuracy: 30.338 | Validation Accuracy: 29.920\n",
      "Time elapsed: 0.84 min\n",
      "Epoch: 003/060 | Batch 000/176 | Cost: 1.0974\n",
      "Epoch: 003/060 | Batch 050/176 | Cost: 1.0920\n",
      "Epoch: 003/060 | Batch 100/176 | Cost: 1.0923\n",
      "Epoch: 003/060 | Batch 150/176 | Cost: 1.1078\n",
      "Epoch: 003/060 Train Cost: 1.0968\n",
      "Train Accuracy: 35.578 | Validation Accuracy: 34.920\n",
      "Time elapsed: 1.22 min\n",
      "Epoch: 004/060 | Batch 000/176 | Cost: 1.0833\n",
      "Epoch: 004/060 | Batch 050/176 | Cost: 1.0948\n",
      "Epoch: 004/060 | Batch 100/176 | Cost: 1.0977\n",
      "Epoch: 004/060 | Batch 150/176 | Cost: 1.0812\n",
      "Epoch: 004/060 Train Cost: 1.0967\n",
      "Train Accuracy: 35.578 | Validation Accuracy: 34.920\n",
      "Time elapsed: 1.58 min\n",
      "Epoch: 005/060 | Batch 000/176 | Cost: 1.0873\n",
      "Epoch: 005/060 | Batch 050/176 | Cost: 1.0884\n",
      "Epoch: 005/060 | Batch 100/176 | Cost: 1.1074\n",
      "Epoch: 005/060 | Batch 150/176 | Cost: 1.0980\n",
      "Epoch: 005/060 Train Cost: 1.0974\n",
      "Train Accuracy: 34.084 | Validation Accuracy: 35.160\n",
      "Time elapsed: 1.92 min\n",
      "Epoch: 006/060 | Batch 000/176 | Cost: 1.0961\n",
      "Epoch: 006/060 | Batch 050/176 | Cost: 1.0981\n",
      "Epoch: 006/060 | Batch 100/176 | Cost: 1.1020\n",
      "Epoch: 006/060 | Batch 150/176 | Cost: 1.0824\n",
      "Epoch: 006/060 Train Cost: 1.1009\n",
      "Train Accuracy: 35.578 | Validation Accuracy: 34.920\n",
      "Time elapsed: 2.25 min\n",
      "Epoch: 007/060 | Batch 000/176 | Cost: 1.1049\n",
      "Epoch: 007/060 | Batch 050/176 | Cost: 1.1022\n",
      "Epoch: 007/060 | Batch 100/176 | Cost: 1.0994\n",
      "Epoch: 007/060 | Batch 150/176 | Cost: 1.0886\n",
      "Epoch: 007/060 Train Cost: 1.0966\n",
      "Train Accuracy: 35.578 | Validation Accuracy: 34.920\n",
      "Time elapsed: 2.57 min\n",
      "Epoch: 008/060 | Batch 000/176 | Cost: 1.0902\n",
      "Epoch: 008/060 | Batch 050/176 | Cost: 1.0893\n",
      "Epoch: 008/060 | Batch 100/176 | Cost: 1.1048\n",
      "Epoch: 008/060 | Batch 150/176 | Cost: 1.0882\n",
      "Epoch: 008/060 Train Cost: 1.0983\n",
      "Train Accuracy: 35.578 | Validation Accuracy: 34.920\n",
      "Time elapsed: 2.88 min\n",
      "Epoch: 009/060 | Batch 000/176 | Cost: 1.1027\n",
      "Epoch: 009/060 | Batch 050/176 | Cost: 1.0922\n",
      "Epoch: 009/060 | Batch 100/176 | Cost: 1.1049\n",
      "Epoch: 009/060 | Batch 150/176 | Cost: 1.0985\n",
      "Epoch: 009/060 Train Cost: 1.0969\n",
      "Train Accuracy: 34.084 | Validation Accuracy: 35.160\n",
      "Time elapsed: 3.22 min\n",
      "Epoch: 010/060 | Batch 000/176 | Cost: 1.1011\n",
      "Epoch: 010/060 | Batch 050/176 | Cost: 1.0962\n",
      "Epoch: 010/060 | Batch 100/176 | Cost: 1.1008\n",
      "Epoch: 010/060 | Batch 150/176 | Cost: 1.0950\n",
      "Epoch: 010/060 Train Cost: 1.0961\n",
      "Train Accuracy: 35.578 | Validation Accuracy: 34.920\n",
      "Time elapsed: 3.56 min\n",
      "Epoch: 011/060 | Batch 000/176 | Cost: 1.1013\n",
      "Epoch: 011/060 | Batch 050/176 | Cost: 1.1044\n",
      "Epoch: 011/060 | Batch 100/176 | Cost: 1.0969\n",
      "Epoch: 011/060 | Batch 150/176 | Cost: 1.0881\n",
      "Epoch: 011/060 Train Cost: 1.0985\n",
      "Train Accuracy: 35.578 | Validation Accuracy: 34.920\n",
      "Time elapsed: 3.87 min\n",
      "Epoch: 012/060 | Batch 000/176 | Cost: 1.1006\n",
      "Epoch: 012/060 | Batch 050/176 | Cost: 1.0862\n",
      "Epoch: 012/060 | Batch 100/176 | Cost: 1.0950\n",
      "Epoch: 012/060 | Batch 150/176 | Cost: 1.1052\n",
      "Epoch: 012/060 Train Cost: 1.0964\n",
      "Train Accuracy: 35.578 | Validation Accuracy: 34.920\n",
      "Time elapsed: 4.22 min\n",
      "Epoch: 013/060 | Batch 000/176 | Cost: 1.0892\n",
      "Epoch: 013/060 | Batch 050/176 | Cost: 1.0973\n",
      "Epoch: 013/060 | Batch 100/176 | Cost: 1.0827\n",
      "Epoch: 013/060 | Batch 150/176 | Cost: 1.0982\n",
      "Epoch: 013/060 Train Cost: 1.0959\n",
      "Train Accuracy: 35.578 | Validation Accuracy: 34.920\n",
      "Time elapsed: 4.54 min\n",
      "Epoch: 014/060 | Batch 000/176 | Cost: 1.0946\n",
      "Epoch: 014/060 | Batch 050/176 | Cost: 1.0970\n",
      "Epoch: 014/060 | Batch 100/176 | Cost: 1.1024\n",
      "Epoch: 014/060 | Batch 150/176 | Cost: 1.0936\n",
      "Epoch: 014/060 Train Cost: 1.0973\n",
      "Train Accuracy: 34.084 | Validation Accuracy: 35.160\n",
      "Time elapsed: 4.88 min\n",
      "Epoch: 015/060 | Batch 000/176 | Cost: 1.0951\n",
      "Epoch: 015/060 | Batch 050/176 | Cost: 1.0983\n",
      "Epoch: 015/060 | Batch 100/176 | Cost: 1.0950\n",
      "Epoch: 015/060 | Batch 150/176 | Cost: 1.0950\n",
      "Epoch: 015/060 Train Cost: 1.0961\n",
      "Train Accuracy: 35.578 | Validation Accuracy: 34.920\n",
      "Time elapsed: 5.20 min\n",
      "Epoch: 016/060 | Batch 000/176 | Cost: 1.0984\n",
      "Epoch: 016/060 | Batch 050/176 | Cost: 1.0878\n",
      "Epoch: 016/060 | Batch 100/176 | Cost: 1.0812\n",
      "Epoch: 016/060 | Batch 150/176 | Cost: 1.0886\n",
      "Epoch: 016/060 Train Cost: 1.0955\n",
      "Train Accuracy: 35.578 | Validation Accuracy: 34.920\n",
      "Time elapsed: 5.60 min\n",
      "Epoch: 017/060 | Batch 000/176 | Cost: 1.1008\n",
      "Epoch: 017/060 | Batch 050/176 | Cost: 1.0879\n",
      "Epoch: 017/060 | Batch 100/176 | Cost: 1.1010\n",
      "Epoch: 017/060 | Batch 150/176 | Cost: 1.0941\n",
      "Epoch: 017/060 Train Cost: 1.0949\n",
      "Train Accuracy: 35.578 | Validation Accuracy: 34.920\n",
      "Time elapsed: 6.22 min\n",
      "Epoch: 018/060 | Batch 000/176 | Cost: 1.1011\n",
      "Epoch: 018/060 | Batch 050/176 | Cost: 1.0826\n",
      "Epoch: 018/060 | Batch 100/176 | Cost: 1.0988\n",
      "Epoch: 018/060 | Batch 150/176 | Cost: 1.0908\n",
      "Epoch: 018/060 Train Cost: 1.0936\n",
      "Train Accuracy: 35.578 | Validation Accuracy: 34.920\n",
      "Time elapsed: 6.54 min\n",
      "Epoch: 019/060 | Batch 000/176 | Cost: 1.0930\n",
      "Epoch: 019/060 | Batch 050/176 | Cost: 1.0948\n",
      "Epoch: 019/060 | Batch 100/176 | Cost: 1.0914\n",
      "Epoch: 019/060 | Batch 150/176 | Cost: 1.0923\n",
      "Epoch: 019/060 Train Cost: 1.0897\n",
      "Train Accuracy: 35.578 | Validation Accuracy: 34.920\n",
      "Time elapsed: 6.90 min\n",
      "Epoch: 020/060 | Batch 000/176 | Cost: 1.0927\n",
      "Epoch: 020/060 | Batch 050/176 | Cost: 1.0852\n",
      "Epoch: 020/060 | Batch 100/176 | Cost: 1.0835\n",
      "Epoch: 020/060 | Batch 150/176 | Cost: 1.0893\n",
      "Epoch: 020/060 Train Cost: 1.0781\n",
      "Train Accuracy: 53.756 | Validation Accuracy: 55.120\n",
      "Time elapsed: 7.28 min\n",
      "Epoch: 021/060 | Batch 000/176 | Cost: 1.0755\n",
      "Epoch: 021/060 | Batch 050/176 | Cost: 1.0696\n",
      "Epoch: 021/060 | Batch 100/176 | Cost: 1.0591\n",
      "Epoch: 021/060 | Batch 150/176 | Cost: 1.0312\n",
      "Epoch: 021/060 Train Cost: 1.0145\n",
      "Train Accuracy: 74.253 | Validation Accuracy: 74.040\n",
      "Time elapsed: 7.63 min\n",
      "Epoch: 022/060 | Batch 000/176 | Cost: 1.0196\n",
      "Epoch: 022/060 | Batch 050/176 | Cost: 0.9650\n",
      "Epoch: 022/060 | Batch 100/176 | Cost: 0.8340\n",
      "Epoch: 022/060 | Batch 150/176 | Cost: 0.7403\n",
      "Epoch: 022/060 Train Cost: 0.7070\n",
      "Train Accuracy: 74.747 | Validation Accuracy: 75.000\n",
      "Time elapsed: 7.98 min\n",
      "Epoch: 023/060 | Batch 000/176 | Cost: 0.7179\n",
      "Epoch: 023/060 | Batch 050/176 | Cost: 0.6445\n",
      "Epoch: 023/060 | Batch 100/176 | Cost: 0.6682\n",
      "Epoch: 023/060 | Batch 150/176 | Cost: 0.5939\n",
      "Epoch: 023/060 Train Cost: 0.5872\n",
      "Train Accuracy: 81.827 | Validation Accuracy: 82.680\n",
      "Time elapsed: 8.31 min\n",
      "Epoch: 024/060 | Batch 000/176 | Cost: 0.5022\n",
      "Epoch: 024/060 | Batch 050/176 | Cost: 0.5557\n",
      "Epoch: 024/060 | Batch 100/176 | Cost: 0.6517\n",
      "Epoch: 024/060 | Batch 150/176 | Cost: 0.4346\n",
      "Epoch: 024/060 Train Cost: 0.5156\n",
      "Train Accuracy: 83.533 | Validation Accuracy: 82.920\n",
      "Time elapsed: 8.63 min\n",
      "Epoch: 025/060 | Batch 000/176 | Cost: 0.4724\n",
      "Epoch: 025/060 | Batch 050/176 | Cost: 0.5400\n",
      "Epoch: 025/060 | Batch 100/176 | Cost: 0.5229\n",
      "Epoch: 025/060 | Batch 150/176 | Cost: 0.5134\n",
      "Epoch: 025/060 Train Cost: 0.4966\n",
      "Train Accuracy: 82.458 | Validation Accuracy: 81.840\n",
      "Time elapsed: 8.95 min\n",
      "Epoch: 026/060 | Batch 000/176 | Cost: 0.3838\n",
      "Epoch: 026/060 | Batch 050/176 | Cost: 0.5619\n",
      "Epoch: 026/060 | Batch 100/176 | Cost: 0.4210\n",
      "Epoch: 026/060 | Batch 150/176 | Cost: 0.4777\n",
      "Epoch: 026/060 Train Cost: 0.3965\n",
      "Train Accuracy: 87.293 | Validation Accuracy: 86.760\n",
      "Time elapsed: 9.26 min\n",
      "Epoch: 027/060 | Batch 000/176 | Cost: 0.4457\n",
      "Epoch: 027/060 | Batch 050/176 | Cost: 0.4361\n",
      "Epoch: 027/060 | Batch 100/176 | Cost: 0.4664\n",
      "Epoch: 027/060 | Batch 150/176 | Cost: 0.3703\n",
      "Epoch: 027/060 Train Cost: 0.4186\n",
      "Train Accuracy: 85.524 | Validation Accuracy: 84.960\n",
      "Time elapsed: 9.59 min\n",
      "Epoch: 028/060 | Batch 000/176 | Cost: 0.3462\n",
      "Epoch: 028/060 | Batch 050/176 | Cost: 0.3349\n",
      "Epoch: 028/060 | Batch 100/176 | Cost: 0.3945\n",
      "Epoch: 028/060 | Batch 150/176 | Cost: 0.4166\n",
      "Epoch: 028/060 Train Cost: 0.3407\n",
      "Train Accuracy: 88.880 | Validation Accuracy: 87.880\n",
      "Time elapsed: 9.90 min\n",
      "Epoch: 029/060 | Batch 000/176 | Cost: 0.3637\n"
     ]
    },
    {
     "name": "stdout",
     "output_type": "stream",
     "text": [
      "Epoch: 029/060 | Batch 050/176 | Cost: 0.4275\n",
      "Epoch: 029/060 | Batch 100/176 | Cost: 0.2522\n",
      "Epoch: 029/060 | Batch 150/176 | Cost: 0.3695\n",
      "Epoch: 029/060 Train Cost: 0.3159\n",
      "Train Accuracy: 90.147 | Validation Accuracy: 88.800\n",
      "Time elapsed: 10.22 min\n",
      "Epoch: 030/060 | Batch 000/176 | Cost: 0.3025\n",
      "Epoch: 030/060 | Batch 050/176 | Cost: 0.3086\n",
      "Epoch: 030/060 | Batch 100/176 | Cost: 0.3634\n",
      "Epoch: 030/060 | Batch 150/176 | Cost: 0.2166\n",
      "Epoch: 030/060 Train Cost: 0.2901\n",
      "Train Accuracy: 91.467 | Validation Accuracy: 90.440\n",
      "Time elapsed: 10.56 min\n",
      "Epoch: 031/060 | Batch 000/176 | Cost: 0.1817\n",
      "Epoch: 031/060 | Batch 050/176 | Cost: 0.1737\n",
      "Epoch: 031/060 | Batch 100/176 | Cost: 0.4541\n",
      "Epoch: 031/060 | Batch 150/176 | Cost: 0.2644\n",
      "Epoch: 031/060 Train Cost: 0.3354\n",
      "Train Accuracy: 88.911 | Validation Accuracy: 87.800\n",
      "Time elapsed: 10.89 min\n",
      "Epoch: 032/060 | Batch 000/176 | Cost: 0.2804\n",
      "Epoch: 032/060 | Batch 050/176 | Cost: 0.2140\n",
      "Epoch: 032/060 | Batch 100/176 | Cost: 0.2513\n",
      "Epoch: 032/060 | Batch 150/176 | Cost: 0.3578\n",
      "Epoch: 032/060 Train Cost: 0.2829\n",
      "Train Accuracy: 91.316 | Validation Accuracy: 89.200\n",
      "Time elapsed: 11.20 min\n",
      "Epoch: 033/060 | Batch 000/176 | Cost: 0.3240\n",
      "Epoch: 033/060 | Batch 050/176 | Cost: 0.2407\n",
      "Epoch: 033/060 | Batch 100/176 | Cost: 0.3047\n",
      "Epoch: 033/060 | Batch 150/176 | Cost: 0.3540\n",
      "Epoch: 033/060 Train Cost: 0.2615\n",
      "Train Accuracy: 92.236 | Validation Accuracy: 90.640\n",
      "Time elapsed: 11.51 min\n",
      "Epoch: 034/060 | Batch 000/176 | Cost: 0.3031\n",
      "Epoch: 034/060 | Batch 050/176 | Cost: 0.2495\n",
      "Epoch: 034/060 | Batch 100/176 | Cost: 0.2958\n",
      "Epoch: 034/060 | Batch 150/176 | Cost: 0.2641\n",
      "Epoch: 034/060 Train Cost: 0.2338\n",
      "Train Accuracy: 93.418 | Validation Accuracy: 91.360\n",
      "Time elapsed: 11.83 min\n",
      "Epoch: 035/060 | Batch 000/176 | Cost: 0.2547\n",
      "Epoch: 035/060 | Batch 050/176 | Cost: 0.2718\n",
      "Epoch: 035/060 | Batch 100/176 | Cost: 0.3176\n",
      "Epoch: 035/060 | Batch 150/176 | Cost: 0.1668\n",
      "Epoch: 035/060 Train Cost: 0.2371\n",
      "Train Accuracy: 92.991 | Validation Accuracy: 90.680\n",
      "Time elapsed: 12.18 min\n",
      "Epoch: 036/060 | Batch 000/176 | Cost: 0.2630\n",
      "Epoch: 036/060 | Batch 050/176 | Cost: 0.2691\n",
      "Epoch: 036/060 | Batch 100/176 | Cost: 0.1795\n",
      "Epoch: 036/060 | Batch 150/176 | Cost: 0.2133\n",
      "Epoch: 036/060 Train Cost: 0.2230\n",
      "Train Accuracy: 93.720 | Validation Accuracy: 91.200\n",
      "Time elapsed: 12.56 min\n",
      "Epoch: 037/060 | Batch 000/176 | Cost: 0.2969\n",
      "Epoch: 037/060 | Batch 050/176 | Cost: 0.2258\n",
      "Epoch: 037/060 | Batch 100/176 | Cost: 0.1877\n",
      "Epoch: 037/060 | Batch 150/176 | Cost: 0.3469\n",
      "Epoch: 037/060 Train Cost: 0.2060\n",
      "Train Accuracy: 94.400 | Validation Accuracy: 91.480\n",
      "Time elapsed: 12.90 min\n",
      "Epoch: 038/060 | Batch 000/176 | Cost: 0.1917\n",
      "Epoch: 038/060 | Batch 050/176 | Cost: 0.1490\n",
      "Epoch: 038/060 | Batch 100/176 | Cost: 0.2929\n",
      "Epoch: 038/060 | Batch 150/176 | Cost: 0.2251\n",
      "Epoch: 038/060 Train Cost: 0.1975\n",
      "Train Accuracy: 94.800 | Validation Accuracy: 91.960\n",
      "Time elapsed: 13.22 min\n",
      "Epoch: 039/060 | Batch 000/176 | Cost: 0.2256\n",
      "Epoch: 039/060 | Batch 050/176 | Cost: 0.1544\n",
      "Epoch: 039/060 | Batch 100/176 | Cost: 0.1604\n",
      "Epoch: 039/060 | Batch 150/176 | Cost: 0.2135\n",
      "Epoch: 039/060 Train Cost: 0.2136\n",
      "Train Accuracy: 93.662 | Validation Accuracy: 90.960\n",
      "Time elapsed: 13.59 min\n",
      "Epoch: 040/060 | Batch 000/176 | Cost: 0.2354\n",
      "Epoch: 040/060 | Batch 050/176 | Cost: 0.1527\n",
      "Epoch: 040/060 | Batch 100/176 | Cost: 0.2075\n",
      "Epoch: 040/060 | Batch 150/176 | Cost: 0.1401\n",
      "Epoch: 040/060 Train Cost: 0.1876\n",
      "Train Accuracy: 94.907 | Validation Accuracy: 91.400\n",
      "Time elapsed: 13.92 min\n",
      "Epoch: 041/060 | Batch 000/176 | Cost: 0.1645\n",
      "Epoch: 041/060 | Batch 050/176 | Cost: 0.1825\n",
      "Epoch: 041/060 | Batch 100/176 | Cost: 0.1321\n",
      "Epoch: 041/060 | Batch 150/176 | Cost: 0.3570\n",
      "Epoch: 041/060 Train Cost: 0.1703\n",
      "Train Accuracy: 95.680 | Validation Accuracy: 91.800\n",
      "Time elapsed: 14.23 min\n",
      "Epoch: 042/060 | Batch 000/176 | Cost: 0.1930\n",
      "Epoch: 042/060 | Batch 050/176 | Cost: 0.1220\n",
      "Epoch: 042/060 | Batch 100/176 | Cost: 0.0804\n",
      "Epoch: 042/060 | Batch 150/176 | Cost: 0.1854\n",
      "Epoch: 042/060 Train Cost: 0.1554\n",
      "Train Accuracy: 96.178 | Validation Accuracy: 92.160\n",
      "Time elapsed: 14.55 min\n",
      "Epoch: 043/060 | Batch 000/176 | Cost: 0.1437\n",
      "Epoch: 043/060 | Batch 050/176 | Cost: 0.1567\n",
      "Epoch: 043/060 | Batch 100/176 | Cost: 0.1853\n",
      "Epoch: 043/060 | Batch 150/176 | Cost: 0.1326\n",
      "Epoch: 043/060 Train Cost: 0.1564\n",
      "Train Accuracy: 96.031 | Validation Accuracy: 91.400\n",
      "Time elapsed: 14.87 min\n",
      "Epoch: 044/060 | Batch 000/176 | Cost: 0.1043\n",
      "Epoch: 044/060 | Batch 050/176 | Cost: 0.2634\n",
      "Epoch: 044/060 | Batch 100/176 | Cost: 0.2353\n",
      "Epoch: 044/060 | Batch 150/176 | Cost: 0.2088\n",
      "Epoch: 044/060 Train Cost: 0.1435\n",
      "Train Accuracy: 96.596 | Validation Accuracy: 92.000\n",
      "Time elapsed: 15.18 min\n",
      "Epoch: 045/060 | Batch 000/176 | Cost: 0.1769\n",
      "Epoch: 045/060 | Batch 050/176 | Cost: 0.1884\n",
      "Epoch: 045/060 | Batch 100/176 | Cost: 0.0906\n",
      "Epoch: 045/060 | Batch 150/176 | Cost: 0.1125\n",
      "Epoch: 045/060 Train Cost: 0.1383\n",
      "Train Accuracy: 96.769 | Validation Accuracy: 91.560\n",
      "Time elapsed: 15.49 min\n",
      "Epoch: 046/060 | Batch 000/176 | Cost: 0.1274\n",
      "Epoch: 046/060 | Batch 050/176 | Cost: 0.1667\n",
      "Epoch: 046/060 | Batch 100/176 | Cost: 0.1188\n",
      "Epoch: 046/060 | Batch 150/176 | Cost: 0.1403\n",
      "Epoch: 046/060 Train Cost: 0.1350\n",
      "Train Accuracy: 96.876 | Validation Accuracy: 91.600\n",
      "Time elapsed: 15.81 min\n",
      "Epoch: 047/060 | Batch 000/176 | Cost: 0.0695\n",
      "Epoch: 047/060 | Batch 050/176 | Cost: 0.0842\n",
      "Epoch: 047/060 | Batch 100/176 | Cost: 0.2057\n",
      "Epoch: 047/060 | Batch 150/176 | Cost: 0.2006\n",
      "Epoch: 047/060 Train Cost: 0.1777\n",
      "Train Accuracy: 94.747 | Validation Accuracy: 90.040\n",
      "Time elapsed: 16.13 min\n",
      "Epoch: 048/060 | Batch 000/176 | Cost: 0.1984\n",
      "Epoch: 048/060 | Batch 050/176 | Cost: 0.0996\n",
      "Epoch: 048/060 | Batch 100/176 | Cost: 0.1873\n",
      "Epoch: 048/060 | Batch 150/176 | Cost: 0.1374\n",
      "Epoch: 048/060 Train Cost: 0.1528\n",
      "Train Accuracy: 95.809 | Validation Accuracy: 91.120\n",
      "Time elapsed: 16.45 min\n",
      "Epoch: 049/060 | Batch 000/176 | Cost: 0.1494\n",
      "Epoch: 049/060 | Batch 050/176 | Cost: 0.1560\n",
      "Epoch: 049/060 | Batch 100/176 | Cost: 0.0966\n",
      "Epoch: 049/060 | Batch 150/176 | Cost: 0.1447\n",
      "Epoch: 049/060 Train Cost: 0.1463\n",
      "Train Accuracy: 95.982 | Validation Accuracy: 90.840\n",
      "Time elapsed: 16.77 min\n",
      "Epoch: 050/060 | Batch 000/176 | Cost: 0.1896\n",
      "Epoch: 050/060 | Batch 050/176 | Cost: 0.0753\n",
      "Epoch: 050/060 | Batch 100/176 | Cost: 0.1129\n",
      "Epoch: 050/060 | Batch 150/176 | Cost: 0.1145\n",
      "Epoch: 050/060 Train Cost: 0.1204\n",
      "Train Accuracy: 97.240 | Validation Accuracy: 91.000\n",
      "Time elapsed: 17.08 min\n",
      "Epoch: 051/060 | Batch 000/176 | Cost: 0.1782\n",
      "Epoch: 051/060 | Batch 050/176 | Cost: 0.0630\n",
      "Epoch: 051/060 | Batch 100/176 | Cost: 0.0950\n",
      "Epoch: 051/060 | Batch 150/176 | Cost: 0.1598\n",
      "Epoch: 051/060 Train Cost: 0.1142\n",
      "Train Accuracy: 97.364 | Validation Accuracy: 91.400\n",
      "Time elapsed: 17.42 min\n",
      "Epoch: 052/060 | Batch 000/176 | Cost: 0.1306\n",
      "Epoch: 052/060 | Batch 050/176 | Cost: 0.1222\n",
      "Epoch: 052/060 | Batch 100/176 | Cost: 0.1287\n",
      "Epoch: 052/060 | Batch 150/176 | Cost: 0.0950\n",
      "Epoch: 052/060 Train Cost: 0.1420\n",
      "Train Accuracy: 96.111 | Validation Accuracy: 90.760\n",
      "Time elapsed: 17.75 min\n",
      "Epoch: 053/060 | Batch 000/176 | Cost: 0.2355\n",
      "Epoch: 053/060 | Batch 050/176 | Cost: 0.3611\n",
      "Epoch: 053/060 | Batch 100/176 | Cost: 0.1681\n",
      "Epoch: 053/060 | Batch 150/176 | Cost: 0.0592\n",
      "Epoch: 053/060 Train Cost: 0.1055\n",
      "Train Accuracy: 97.720 | Validation Accuracy: 91.840\n",
      "Time elapsed: 18.07 min\n",
      "Epoch: 054/060 | Batch 000/176 | Cost: 0.0799\n",
      "Epoch: 054/060 | Batch 050/176 | Cost: 0.1798\n",
      "Epoch: 054/060 | Batch 100/176 | Cost: 0.0787\n",
      "Epoch: 054/060 | Batch 150/176 | Cost: 0.1455\n",
      "Epoch: 054/060 Train Cost: 0.1081\n",
      "Train Accuracy: 97.600 | Validation Accuracy: 91.880\n",
      "Time elapsed: 18.38 min\n",
      "Epoch: 055/060 | Batch 000/176 | Cost: 0.0648\n",
      "Epoch: 055/060 | Batch 050/176 | Cost: 0.2226\n",
      "Epoch: 055/060 | Batch 100/176 | Cost: 0.1848\n",
      "Epoch: 055/060 | Batch 150/176 | Cost: 0.1149\n",
      "Epoch: 055/060 Train Cost: 0.1268\n",
      "Train Accuracy: 96.662 | Validation Accuracy: 90.960\n",
      "Time elapsed: 18.67 min\n",
      "Epoch: 056/060 | Batch 000/176 | Cost: 0.1978\n",
      "Epoch: 056/060 | Batch 050/176 | Cost: 0.0973\n",
      "Epoch: 056/060 | Batch 100/176 | Cost: 0.0969\n",
      "Epoch: 056/060 | Batch 150/176 | Cost: 0.1244\n",
      "Epoch: 056/060 Train Cost: 0.0983\n",
      "Train Accuracy: 97.773 | Validation Accuracy: 91.920\n",
      "Time elapsed: 18.99 min\n",
      "Epoch: 057/060 | Batch 000/176 | Cost: 0.1185\n"
     ]
    },
    {
     "name": "stdout",
     "output_type": "stream",
     "text": [
      "Epoch: 057/060 | Batch 050/176 | Cost: 0.1092\n",
      "Epoch: 057/060 | Batch 100/176 | Cost: 0.0841\n",
      "Epoch: 057/060 | Batch 150/176 | Cost: 0.1438\n",
      "Epoch: 057/060 Train Cost: 0.1007\n",
      "Train Accuracy: 97.720 | Validation Accuracy: 91.680\n",
      "Time elapsed: 19.30 min\n",
      "Epoch: 058/060 | Batch 000/176 | Cost: 0.0650\n",
      "Epoch: 058/060 | Batch 050/176 | Cost: 0.0299\n",
      "Epoch: 058/060 | Batch 100/176 | Cost: 0.0963\n",
      "Epoch: 058/060 | Batch 150/176 | Cost: 0.0884\n",
      "Epoch: 058/060 Train Cost: 0.0921\n",
      "Train Accuracy: 97.982 | Validation Accuracy: 91.560\n",
      "Time elapsed: 19.61 min\n",
      "Epoch: 059/060 | Batch 000/176 | Cost: 0.1031\n",
      "Epoch: 059/060 | Batch 050/176 | Cost: 0.0541\n",
      "Epoch: 059/060 | Batch 100/176 | Cost: 0.1259\n",
      "Epoch: 059/060 | Batch 150/176 | Cost: 0.0792\n",
      "Epoch: 059/060 Train Cost: 0.1006\n",
      "Train Accuracy: 97.747 | Validation Accuracy: 91.680\n",
      "Time elapsed: 19.92 min\n",
      "Epoch: 060/060 | Batch 000/176 | Cost: 0.0290\n",
      "Epoch: 060/060 | Batch 050/176 | Cost: 0.2280\n",
      "Epoch: 060/060 | Batch 100/176 | Cost: 0.1431\n",
      "Epoch: 060/060 | Batch 150/176 | Cost: 0.0386\n",
      "Epoch: 060/060 Train Cost: 0.0920\n",
      "Train Accuracy: 97.933 | Validation Accuracy: 91.520\n",
      "Time elapsed: 20.26 min\n",
      "Total Training Time: 20.26 min\n"
     ]
    }
   ],
   "source": [
    "# Training\n",
    "\n",
    "\n",
    "# PLEASE DON'T CHANGE THE compute_epoch_loss\n",
    "# and the compute accuracy functions\n",
    "\n",
    "def compute_epoch_loss(model, data_loader):\n",
    "    curr_loss, num_examples = 0., 0\n",
    "    with torch.no_grad():\n",
    "        for features, targets in data_loader:\n",
    "            features = features.view(-1, 28*28).to(DEVICE)\n",
    "            targets = targets.to(DEVICE)\n",
    "            logits, probas = model(features)\n",
    "            loss = F.cross_entropy(logits, targets, reduction='sum')\n",
    "            num_examples += targets.size(0)\n",
    "            curr_loss += loss\n",
    "\n",
    "        curr_loss = curr_loss / num_examples\n",
    "        return curr_loss\n",
    "\n",
    "\n",
    "def compute_accuracy(model, data_loader):\n",
    "    correct_pred, num_examples = 0, 0\n",
    "    with torch.no_grad():\n",
    "        for features, targets in data_loader:\n",
    "            features = features.view(-1, 28*28).to(DEVICE)\n",
    "            targets = targets.to(DEVICE)\n",
    "            logits, probas = model.forward(features)\n",
    "            predicted_labels = torch.argmax(probas, 1)\n",
    "            num_examples += targets.size(0)\n",
    "            correct_pred += (predicted_labels == targets).sum()\n",
    "        return correct_pred.float()/num_examples * 100\n",
    "\n",
    "\n",
    "start_time = time.time()\n",
    "minibatch_cost = []\n",
    "epoch_cost = []\n",
    "\n",
    "# NO NEED TO CHANGE ANYTHING BELOW. HOWEVER, YOU CAN CHANGE\n",
    "# THE NUMBER OF EPOCHS IF YOU LIKE\n",
    "\n",
    "NUM_EPOCHS = 60\n",
    "\n",
    "for epoch in range(NUM_EPOCHS):\n",
    "    model.train()\n",
    "    for batch_idx, (features, targets) in enumerate(train_loader):\n",
    "        features = features.view(-1, 28*28).to(DEVICE)\n",
    "        targets = targets.to(DEVICE)\n",
    "\n",
    "        # FORWARD AND BACK PROP\n",
    "        logits, probas = model(features)\n",
    "        cost = F.cross_entropy(logits, targets)\n",
    "        optimizer.zero_grad()\n",
    "        cost.backward()\n",
    "        minibatch_cost.append(cost)\n",
    "\n",
    "        # UPDATE MODEL PARAMETERS\n",
    "        optimizer.step()\n",
    "\n",
    "        # LOGGING\n",
    "        if not batch_idx % 50:\n",
    "            print('Epoch: %03d/%03d | Batch %03d/%03d | Cost: %.4f'\n",
    "                  % (epoch+1, NUM_EPOCHS, batch_idx,\n",
    "                     len(train_loader), cost))\n",
    "\n",
    "    model.eval()\n",
    "    cost = compute_epoch_loss(model, train_loader)\n",
    "    epoch_cost.append(cost)\n",
    "\n",
    "    train_accuracy = compute_accuracy(model, train_loader)\n",
    "    valid_accuracy = compute_accuracy(model, valid_loader)\n",
    "\n",
    "    print('Epoch: %03d/%03d Train Cost: %.4f' % (\n",
    "            epoch+1, NUM_EPOCHS, cost))\n",
    "    print('Train Accuracy: %.3f | Validation Accuracy: %.3f'\n",
    "          % (train_accuracy, valid_accuracy))\n",
    "    print('Time elapsed: %.2f min' % ((time.time() - start_time)/60))\n",
    "\n",
    "print('Total Training Time: %.2f min' % ((time.time() - start_time)/60))"
   ]
  },
  {
   "cell_type": "markdown",
   "metadata": {},
   "source": [
    "### Evaluation (No Need To Change Any Code in This Section!)"
   ]
  },
  {
   "cell_type": "code",
   "execution_count": 12,
   "metadata": {},
   "outputs": [
    {
     "data": {
      "image/png": "[encoded data removed]",
      "text/plain": [
       "<Figure size 432x288 with 1 Axes>"
      ]
     },
     "metadata": {
      "needs_background": "light"
     },
     "output_type": "display_data"
    },
    {
     "data": {
      "image/png": "[encoded data removed]",
      "text/plain": [
       "<Figure size 432x288 with 1 Axes>"
      ]
     },
     "metadata": {
      "needs_background": "light"
     },
     "output_type": "display_data"
    }
   ],
   "source": [
    "plt.plot(range(len(minibatch_cost)), minibatch_cost)\n",
    "plt.ylabel('Cross Entropy')\n",
    "plt.xlabel('Minibatch')\n",
    "plt.show()\n",
    "\n",
    "plt.plot(range(len(epoch_cost)), epoch_cost)\n",
    "plt.ylabel('Cross Entropy')\n",
    "plt.xlabel('Epoch')\n",
    "plt.show()"
   ]
  },
  {
   "cell_type": "code",
   "execution_count": 13,
   "metadata": {},
   "outputs": [
    {
     "name": "stdout",
     "output_type": "stream",
     "text": [
      "Test Accuracy: 91.87\n"
     ]
    }
   ],
   "source": [
    "print('Test Accuracy: %.2f' % compute_accuracy(model, test_loader))"
   ]
  },
  {
   "cell_type": "markdown",
   "metadata": {},
   "source": [
    "### Conclusions (YOUR ANSWERS REQUIRED)"
   ]
  },
  {
   "cell_type": "markdown",
   "metadata": {},
   "source": [
    "**1) What is your training, validation, and test accuracy (paste your numbers from above)? Also, do you notice any overfitting? If yes, why do you think your model is overfitting, and what would be a simple technique to reduce overfitting?**\n",
    "\n",
    "[Your answers here]"
   ]
  },
  {
   "cell_type": "markdown",
   "metadata": {},
   "source": [
    "**2) What architectual changes did you make to improve the performance?**\n",
    "\n",
    "[Briefly list the changes here]"
   ]
  },
  {
   "cell_type": "markdown",
   "metadata": {},
   "source": [
    "**3) Assuming you increased the accuracy by 3%, how many more correct predictions did the improved model make in the test set?**\n",
    "\n",
    "[Provide a short calculation and number (i.e., provide a count of images)]"
   ]
  }
 ],
 "metadata": {
  "kernelspec": {
   "display_name": "Python 3",
   "language": "python",
   "name": "python3"
  },
  "language_info": {
   "codemirror_mode": {
    "name": "ipython",
    "version": 3
   },
   "file_extension": ".py",
   "mimetype": "text/x-python",
   "name": "python",
   "nbconvert_exporter": "python",
   "pygments_lexer": "ipython3",
   "version": "3.7.4"
  }
 },
 "nbformat": 4,
 "nbformat_minor": 2
}
