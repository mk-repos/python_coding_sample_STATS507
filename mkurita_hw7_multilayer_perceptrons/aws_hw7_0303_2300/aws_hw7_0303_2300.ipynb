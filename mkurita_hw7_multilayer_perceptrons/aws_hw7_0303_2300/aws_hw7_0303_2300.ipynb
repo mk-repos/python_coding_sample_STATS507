{
 "cells": [
  {
   "cell_type": "markdown",
   "metadata": {},
   "source": [
    "# Homework 7: Multilayer Perceptrons\n",
    "\n",
    "**name:** Moeki Kurita\n",
    "\n",
    "**email:** mkurita@umich.edu\n",
    "\n",
    "**I did not discuss this homework with anyone.**\n",
    "\n",
    "**This homework assignment took me 6 hours in total to complete.**\n",
    "\n",
    "### Submission Instructions\n",
    "Your homework solutions should be written entirely in this Jupyter notebook file. Once it contains your solutions, you should submit this notebook through Canvas. Before submitting, please make sure make sure __Cells->Run__ executes without errors; errors in your code cause problems for our auto-grader. Thus, even though we frequently ask you to check for errors in your functions, you should not include in your submission any examples of your functions actually raising those errors.\n",
    "\n",
    "### Pillow\n",
    "Note that Python's Imaging Library (PIL) can be installed via\n",
    "\n",
    "    conda install pillow\n",
    "    \n",
    "or\n",
    "\n",
    "    pip install pillow\n",
    "\n",
    "\n",
    "### Credits\n",
    "This homework assignment is based on a homework assignment written by Sebastian Raschka (sraschka@wisc.edu)\n",
    "The dataset is from him too. Please do not distribute this modified version of his work.\n",
    "\n",
    "### Supplemental Data Files\n",
    "Run the following code to download the supplemental files you will need to complete this homework:"
   ]
  },
  {
   "cell_type": "code",
   "execution_count": 1,
   "metadata": {},
   "outputs": [],
   "source": [
    "from urllib import request\n",
    "from os import path\n",
    "from zipfile import ZipFile\n",
    "\n",
    "url = \"https://regier.stat.lsa.umich.edu/stats507/\"\n",
    "fn = \"hw7data.zip\"\n",
    "if not path.exists(fn):\n",
    "    data = request.urlopen(url + fn).read()\n",
    "    with open(fn, 'wb') as fhand:\n",
    "        fhand.write(data)\n",
    "    with ZipFile(fn, 'r') as zipObj:\n",
    "        zipObj.extractall()"
   ]
  },
  {
   "cell_type": "markdown",
   "metadata": {},
   "source": [
    "### Coding style\n",
    "Please follow the [PEP8 guidelines](https://www.python.org/dev/peps/pep-0008/). The `pycodestyle_magic` package will remind you if you are not. To install it, run\n",
    "```\n",
    "pip install flake8 pycodestyle_magic\n",
    "```\n",
    "Once it is installed the following two Jupyter directives will enable syntax checking:"
   ]
  },
  {
   "cell_type": "code",
   "execution_count": 2,
   "metadata": {},
   "outputs": [],
   "source": [
    "%load_ext pycodestyle_magic\n",
    "%pycodestyle_on"
   ]
  },
  {
   "cell_type": "markdown",
   "metadata": {},
   "source": [
    "## Problem 1 (20 points)\n",
    "\n",
    "Modify the Multilayer Perceptron implementation below to achieve a better performance. In particular,\n",
    "- Your Validation and Test set accuracies should be >= 92%\n",
    "- Answer the questions at the bottom of this notebook"
   ]
  },
  {
   "cell_type": "markdown",
   "metadata": {},
   "source": [
    "Please read and execute this notebook first to make sure everything works correctly. Then, make any changes to the architecture, i.e., you can change\n",
    "\n",
    "- the number of layers\n",
    "- the activation function(s) (logistic sigmoid, tanh, relu, leaky relu, ...)\n",
    "- the learning rate\n",
    "- the number of hidden layers\n",
    "- the number of units in the hidden layer(s)\n",
    "- the number of epochs\n",
    "- the minibatch size\n",
    "\n",
    "However,\n",
    "\n",
    "- don't change the weight initialization\n",
    "- don't change the random seed\n",
    "- don't change the optimization algorithm"
   ]
  },
  {
   "cell_type": "code",
   "execution_count": 3,
   "metadata": {},
   "outputs": [],
   "source": [
    "import torch\n",
    "import os\n",
    "import pandas as pd\n",
    "import numpy as np\n",
    "import time\n",
    "from PIL import Image\n",
    "from torch.utils.data import Dataset\n",
    "from torchvision import transforms\n",
    "from torch.utils.data import DataLoader\n",
    "import torch.nn.functional as F\n",
    "import matplotlib.pyplot as plt\n",
    "%matplotlib inline"
   ]
  },
  {
   "cell_type": "code",
   "execution_count": 4,
   "metadata": {},
   "outputs": [],
   "source": [
    "# No need to change anything here!\n",
    "# If there is a GPU available, it will use it,\n",
    "# otherwise, it will use the CPU\n",
    "\n",
    "RANDOM_SEED = 123\n",
    "DEVICE = torch.device('cuda:0' if torch.cuda.is_available() else 'cpu')\n",
    "\n",
    "# NOTE: I actually noticed that this code runs faster on the CPU than on the\n",
    "# GPU, because the dataset is so small. However, you are encouraged to try\n",
    "# out training on a GPU, e.g., via Google Colab."
   ]
  },
  {
   "cell_type": "markdown",
   "metadata": {},
   "source": [
    "### Loading the Dataset"
   ]
  },
  {
   "cell_type": "markdown",
   "metadata": {},
   "source": [
    "The dataset consists of 3 classes:\n",
    "- Drawings of \"birds\" (class 0)\n",
    "- Drawings of \"pizzas\" (class 1)\n",
    "- Drawings of \"screwdrivers\" (class 2)\n",
    "\n",
    "(The dataset is based on Google Quickdraw: I wrote a script to fetch the images from the database here: https://quickdraw.withgoogle.com/data)"
   ]
  },
  {
   "cell_type": "markdown",
   "metadata": {},
   "source": [
    "The dataset is very small on purpose so that the training should be relatively fast (but this wouldn't be an ideal DL dataset because of its small size)."
   ]
  },
  {
   "cell_type": "code",
   "execution_count": 5,
   "metadata": {},
   "outputs": [
    {
     "name": "stdout",
     "output_type": "stream",
     "text": [
      "Class distribution Train [8005 7669 6826]\n"
     ]
    }
   ],
   "source": [
    "df_train = pd.read_csv('train.csv')\n",
    "print('Class distribution Train', np.bincount(df_train['Class Label'].values))"
   ]
  },
  {
   "cell_type": "markdown",
   "metadata": {},
   "source": [
    "The images are 28x28 dimensional (grayscale)."
   ]
  },
  {
   "cell_type": "markdown",
   "metadata": {},
   "source": [
    "Some examples:"
   ]
  },
  {
   "cell_type": "code",
   "execution_count": 6,
   "metadata": {},
   "outputs": [
    {
     "name": "stdout",
     "output_type": "stream",
     "text": [
      "png-files/bird_000043.png\n"
     ]
    },
    {
     "data": {
      "image/png": "[encoded data removed]",
      "text/plain": [
       "<Figure size 432x288 with 1 Axes>"
      ]
     },
     "metadata": {
      "needs_background": "light"
     },
     "output_type": "display_data"
    },
    {
     "name": "stdout",
     "output_type": "stream",
     "text": [
      "png-files/bird_000107.png\n"
     ]
    },
    {
     "data": {
      "image/png": "[encoded data removed]",
      "text/plain": [
       "<Figure size 432x288 with 1 Axes>"
      ]
     },
     "metadata": {
      "needs_background": "light"
     },
     "output_type": "display_data"
    },
    {
     "name": "stdout",
     "output_type": "stream",
     "text": [
      "png-files/pizza_000000.png\n"
     ]
    },
    {
     "data": {
      "image/png": "[encoded data removed]",
      "text/plain": [
       "<Figure size 432x288 with 1 Axes>"
      ]
     },
     "metadata": {
      "needs_background": "light"
     },
     "output_type": "display_data"
    },
    {
     "name": "stdout",
     "output_type": "stream",
     "text": [
      "png-files/pizza_000002.png\n"
     ]
    },
    {
     "data": {
      "image/png": "[encoded data removed]",
      "text/plain": [
       "<Figure size 432x288 with 1 Axes>"
      ]
     },
     "metadata": {
      "needs_background": "light"
     },
     "output_type": "display_data"
    },
    {
     "name": "stdout",
     "output_type": "stream",
     "text": [
      "png-files/screwdriver_000001.png\n"
     ]
    },
    {
     "data": {
      "image/png": "[encoded data removed]",
      "text/plain": [
       "<Figure size 432x288 with 1 Axes>"
      ]
     },
     "metadata": {
      "needs_background": "light"
     },
     "output_type": "display_data"
    },
    {
     "name": "stdout",
     "output_type": "stream",
     "text": [
      "png-files/screwdriver_000012.png\n"
     ]
    },
    {
     "data": {
      "image/png": "[encoded data removed]",
      "text/plain": [
       "<Figure size 432x288 with 1 Axes>"
      ]
     },
     "metadata": {
      "needs_background": "light"
     },
     "output_type": "display_data"
    }
   ],
   "source": [
    "import glob\n",
    "image_paths = sorted(glob.glob('png-files/*.png'))\n",
    "for i in (12, 25, 30000, 30001, 60000, 60005):\n",
    "    im_path = image_paths[i]\n",
    "    print(im_path)\n",
    "    im = Image.open(im_path)\n",
    "    plt.imshow(im)\n",
    "    plt.show()"
   ]
  },
  {
   "cell_type": "markdown",
   "metadata": {},
   "source": [
    "---\n",
    "\n",
    "- The only thing you should change in this section during experimenting is the batch size\n",
    "- However, it is not required to make changes to the batch size"
   ]
  },
  {
   "cell_type": "code",
   "execution_count": 7,
   "metadata": {},
   "outputs": [],
   "source": [
    "class QuickdrawDataset(Dataset):\n",
    "    \"\"\"Custom Dataset for loading Quickdraw images\"\"\"\n",
    "\n",
    "    def __init__(self, csv_path, img_dir, transform=None):\n",
    "\n",
    "        df = pd.read_csv(csv_path)\n",
    "        self.img_dir = img_dir\n",
    "        self.img_names = df['Filename'].values\n",
    "        self.y = df['Class Label'].values\n",
    "        self.transform = transform\n",
    "\n",
    "    def __getitem__(self, index):\n",
    "        img = Image.open(os.path.join(self.img_dir,\n",
    "                                      self.img_names[index]))\n",
    "\n",
    "        if self.transform is not None:\n",
    "            img = self.transform(img)\n",
    "\n",
    "        label = self.y[index]\n",
    "        return img, label\n",
    "\n",
    "    def __len__(self):\n",
    "        return self.y.shape[0]"
   ]
  },
  {
   "cell_type": "code",
   "execution_count": 8,
   "metadata": {},
   "outputs": [],
   "source": [
    "# Note that transforms.ToTensor()\n",
    "# already divides pixels by 255. internally\n",
    "custom_transform = transforms.Compose([transforms.ToTensor()])\n",
    "\n",
    "\n",
    "train_dataset = QuickdrawDataset(csv_path='train.csv',\n",
    "                                 img_dir='png-files/',\n",
    "                                 transform=custom_transform)\n",
    "\n",
    "train_loader = DataLoader(dataset=train_dataset,\n",
    "                          batch_size=128,  # CHANGE IF YOU LIKE\n",
    "                          shuffle=True,\n",
    "                          num_workers=0)  # changed from 4\n",
    "\n",
    "\n",
    "valid_dataset = QuickdrawDataset(csv_path='valid.csv',\n",
    "                                 img_dir='png-files/',\n",
    "                                 transform=custom_transform)\n",
    "\n",
    "valid_loader = DataLoader(dataset=valid_dataset,\n",
    "                          batch_size=128,\n",
    "                          shuffle=False,\n",
    "                          num_workers=0)  # changed from 4\n",
    "\n",
    "test_dataset = QuickdrawDataset(csv_path='test.csv',\n",
    "                                img_dir='png-files/',\n",
    "                                transform=custom_transform)\n",
    "\n",
    "test_loader = DataLoader(dataset=test_dataset,\n",
    "                         batch_size=128,\n",
    "                         shuffle=False,\n",
    "                         num_workers=0)  # changed from 4"
   ]
  },
  {
   "cell_type": "markdown",
   "metadata": {},
   "source": [
    "The cell below just checks if the dataset can be loaded correctly."
   ]
  },
  {
   "cell_type": "code",
   "execution_count": 9,
   "metadata": {},
   "outputs": [
    {
     "name": "stdout",
     "output_type": "stream",
     "text": [
      "Epoch: 1 | Batch index: 0 | Batch size: 128\n",
      "break minibatch for-loop\n",
      "Epoch: 2 | Batch index: 0 | Batch size: 128\n",
      "break minibatch for-loop\n"
     ]
    }
   ],
   "source": [
    "torch.manual_seed(0)\n",
    "\n",
    "num_epochs = 2\n",
    "for epoch in range(num_epochs):\n",
    "\n",
    "    for batch_idx, (x, y) in enumerate(train_loader):\n",
    "\n",
    "        print('Epoch:', epoch+1, end='')\n",
    "        print(' | Batch index:', batch_idx, end='')\n",
    "        print(' | Batch size:', y.size()[0])\n",
    "\n",
    "        x = x.to(DEVICE)\n",
    "        y = y.to(DEVICE)\n",
    "\n",
    "        print('break minibatch for-loop')\n",
    "        break"
   ]
  },
  {
   "cell_type": "markdown",
   "metadata": {},
   "source": [
    "If you get an error, make sure the `png-files` folder is unzipped and it the same directory as this notebook!"
   ]
  },
  {
   "cell_type": "markdown",
   "metadata": {},
   "source": [
    "### Multilayer Perceptron Model"
   ]
  },
  {
   "cell_type": "markdown",
   "metadata": {},
   "source": [
    "The cell below contains the multi-layer perceptron model. This is the main section where you want to make changes to the architecture."
   ]
  },
  {
   "cell_type": "code",
   "execution_count": 10,
   "metadata": {},
   "outputs": [],
   "source": [
    "class MLP(torch.nn.Module):\n",
    "\n",
    "    def __init__(self, num_features, num_hidden_1, num_hidden_2, num_hidden_3,\n",
    "                 drop_proba, num_classes):\n",
    "        super(MLP, self).__init__()\n",
    "\n",
    "        self.drop_proba = drop_proba\n",
    "        self.num_classes = num_classes\n",
    "\n",
    "        # ADD ADDITIONAL LAYERS BELOW IF YOU LIKE\n",
    "        self.linear_1 = torch.nn.Linear(num_features, num_hidden_1)\n",
    "        self.linear_2 = torch.nn.Linear(num_hidden_1, num_hidden_2)\n",
    "        self.linear_3 = torch.nn.Linear(num_hidden_2, num_hidden_3)\n",
    "        self.linear_out = torch.nn.Linear(num_hidden_3, num_classes)\n",
    "\n",
    "    def forward(self, x):\n",
    "        # MAKE SURE YOU CONNECT THE LAYERS PROPERLY IF YOU CHANGED\n",
    "        # ANYTHNG IN THE __init__ METHOD ABOVE\n",
    "        out = F.dropout(x, p=0.2, training=self.training)\n",
    "        out = self.linear_1(out)\n",
    "        out = F.relu(out)\n",
    "        out = F.dropout(out, p=self.drop_proba, training=self.training)\n",
    "        out = self.linear_2(out)\n",
    "        out = F.relu(out)\n",
    "        out = F.dropout(out, p=self.drop_proba, training=self.training)\n",
    "        out = self.linear_3(out)\n",
    "        out = F.relu(out)\n",
    "        out = F.dropout(out, p=self.drop_proba, training=self.training)\n",
    "        out = torch.sigmoid(out)\n",
    "\n",
    "        logits = self.linear_out(out)\n",
    "        probas = F.softmax(logits, dim=1)\n",
    "        return logits, probas\n",
    "\n",
    "\n",
    "# Model Initialization\n",
    "\n",
    "\n",
    "# the random seed makes sure that the random weight initialization\n",
    "# in the model is always the same.\n",
    "# In practice, some weights don't work well, and we may also want\n",
    "# to try different random seeds. In this homework, this is not\n",
    "# necessary.\n",
    "torch.manual_seed(RANDOM_SEED)\n",
    "\n",
    "# IF YOU CHANGED THE ARCHITECTURE ABOVE, MAKE SURE YOU\n",
    "# ACCOUNT FOR IT VIA THE PARAMETERS BELOW. I.e., if you\n",
    "# added a second hidden layer, you may want to add a\n",
    "# hidden_2 parameter here. Also you may want to play\n",
    "# with the number of hidden units.\n",
    "model = MLP(num_features=28*28,\n",
    "            num_hidden_1=200,\n",
    "            num_hidden_2=200,\n",
    "            num_hidden_3=200,\n",
    "            drop_proba=0.5,\n",
    "            num_classes=3)\n",
    "\n",
    "model = model.to(DEVICE)\n",
    "\n",
    "\n",
    "# For this homework, do not change the optimizer. However, you\n",
    "# likely want to experiment with the learning rate!\n",
    "optimizer = torch.optim.SGD(model.parameters(), lr=0.05)"
   ]
  },
  {
   "cell_type": "code",
   "execution_count": 11,
   "metadata": {},
   "outputs": [
    {
     "name": "stdout",
     "output_type": "stream",
     "text": [
      "Epoch: 001/070 | Batch 000/176 | Cost: 1.1234\n",
      "Epoch: 001/070 | Batch 050/176 | Cost: 1.0968\n",
      "Epoch: 001/070 | Batch 100/176 | Cost: 1.0970\n",
      "Epoch: 001/070 | Batch 150/176 | Cost: 1.1259\n",
      "Epoch: 001/070 Train Cost: 1.0952\n",
      "Train Accuracy: 45.596 | Validation Accuracy: 47.440\n",
      "Time elapsed: 0.42 min\n",
      "Epoch: 002/070 | Batch 000/176 | Cost: 1.0655\n",
      "Epoch: 002/070 | Batch 050/176 | Cost: 1.1338\n",
      "Epoch: 002/070 | Batch 100/176 | Cost: 1.0872\n",
      "Epoch: 002/070 | Batch 150/176 | Cost: 1.0625\n",
      "Epoch: 002/070 Train Cost: 1.0572\n",
      "Train Accuracy: 39.098 | Validation Accuracy: 38.920\n",
      "Time elapsed: 0.73 min\n",
      "Epoch: 003/070 | Batch 000/176 | Cost: 1.0533\n",
      "Epoch: 003/070 | Batch 050/176 | Cost: 1.0607\n",
      "Epoch: 003/070 | Batch 100/176 | Cost: 1.0129\n",
      "Epoch: 003/070 | Batch 150/176 | Cost: 0.9350\n",
      "Epoch: 003/070 Train Cost: 0.8488\n",
      "Train Accuracy: 67.049 | Validation Accuracy: 67.160\n",
      "Time elapsed: 1.07 min\n",
      "Epoch: 004/070 | Batch 000/176 | Cost: 0.8964\n",
      "Epoch: 004/070 | Batch 050/176 | Cost: 0.8711\n",
      "Epoch: 004/070 | Batch 100/176 | Cost: 0.8076\n",
      "Epoch: 004/070 | Batch 150/176 | Cost: 0.7761\n",
      "Epoch: 004/070 Train Cost: 0.7329\n",
      "Train Accuracy: 62.556 | Validation Accuracy: 62.960\n",
      "Time elapsed: 1.42 min\n",
      "Epoch: 005/070 | Batch 000/176 | Cost: 0.7670\n",
      "Epoch: 005/070 | Batch 050/176 | Cost: 0.7151\n",
      "Epoch: 005/070 | Batch 100/176 | Cost: 0.6829\n",
      "Epoch: 005/070 | Batch 150/176 | Cost: 0.6792\n",
      "Epoch: 005/070 Train Cost: 0.6713\n",
      "Train Accuracy: 66.667 | Validation Accuracy: 66.840\n",
      "Time elapsed: 1.72 min\n",
      "Epoch: 006/070 | Batch 000/176 | Cost: 0.6651\n",
      "Epoch: 006/070 | Batch 050/176 | Cost: 0.7098\n",
      "Epoch: 006/070 | Batch 100/176 | Cost: 0.7209\n",
      "Epoch: 006/070 | Batch 150/176 | Cost: 0.6972\n",
      "Epoch: 006/070 Train Cost: 0.6929\n",
      "Train Accuracy: 64.156 | Validation Accuracy: 64.640\n",
      "Time elapsed: 2.03 min\n",
      "Epoch: 007/070 | Batch 000/176 | Cost: 0.6082\n",
      "Epoch: 007/070 | Batch 050/176 | Cost: 0.6694\n",
      "Epoch: 007/070 | Batch 100/176 | Cost: 0.7099\n",
      "Epoch: 007/070 | Batch 150/176 | Cost: 0.5988\n",
      "Epoch: 007/070 Train Cost: 0.5721\n",
      "Train Accuracy: 75.102 | Validation Accuracy: 75.640\n",
      "Time elapsed: 2.34 min\n",
      "Epoch: 008/070 | Batch 000/176 | Cost: 0.6053\n",
      "Epoch: 008/070 | Batch 050/176 | Cost: 0.6711\n",
      "Epoch: 008/070 | Batch 100/176 | Cost: 0.5834\n",
      "Epoch: 008/070 | Batch 150/176 | Cost: 0.6141\n",
      "Epoch: 008/070 Train Cost: 0.5262\n",
      "Train Accuracy: 78.916 | Validation Accuracy: 79.720\n",
      "Time elapsed: 2.64 min\n",
      "Epoch: 009/070 | Batch 000/176 | Cost: 0.6513\n",
      "Epoch: 009/070 | Batch 050/176 | Cost: 0.5877\n",
      "Epoch: 009/070 | Batch 100/176 | Cost: 0.5766\n",
      "Epoch: 009/070 | Batch 150/176 | Cost: 0.5573\n",
      "Epoch: 009/070 Train Cost: 0.4850\n",
      "Train Accuracy: 81.409 | Validation Accuracy: 81.960\n",
      "Time elapsed: 2.94 min\n",
      "Epoch: 010/070 | Batch 000/176 | Cost: 0.6199\n",
      "Epoch: 010/070 | Batch 050/176 | Cost: 0.5239\n",
      "Epoch: 010/070 | Batch 100/176 | Cost: 0.5616\n",
      "Epoch: 010/070 | Batch 150/176 | Cost: 0.5516\n",
      "Epoch: 010/070 Train Cost: 0.4471\n",
      "Train Accuracy: 83.689 | Validation Accuracy: 84.400\n",
      "Time elapsed: 3.24 min\n",
      "Epoch: 011/070 | Batch 000/176 | Cost: 0.5281\n",
      "Epoch: 011/070 | Batch 050/176 | Cost: 0.4790\n",
      "Epoch: 011/070 | Batch 100/176 | Cost: 0.4170\n",
      "Epoch: 011/070 | Batch 150/176 | Cost: 0.4420\n",
      "Epoch: 011/070 Train Cost: 0.4008\n",
      "Train Accuracy: 86.236 | Validation Accuracy: 86.400\n",
      "Time elapsed: 3.55 min\n",
      "Epoch: 012/070 | Batch 000/176 | Cost: 0.6450\n",
      "Epoch: 012/070 | Batch 050/176 | Cost: 0.5055\n",
      "Epoch: 012/070 | Batch 100/176 | Cost: 0.4687\n",
      "Epoch: 012/070 | Batch 150/176 | Cost: 0.4791\n",
      "Epoch: 012/070 Train Cost: 0.3697\n",
      "Train Accuracy: 87.564 | Validation Accuracy: 87.200\n",
      "Time elapsed: 3.84 min\n",
      "Epoch: 013/070 | Batch 000/176 | Cost: 0.4686\n",
      "Epoch: 013/070 | Batch 050/176 | Cost: 0.3897\n",
      "Epoch: 013/070 | Batch 100/176 | Cost: 0.4376\n",
      "Epoch: 013/070 | Batch 150/176 | Cost: 0.5018\n",
      "Epoch: 013/070 Train Cost: 0.3611\n",
      "Train Accuracy: 88.284 | Validation Accuracy: 87.760\n",
      "Time elapsed: 4.14 min\n",
      "Epoch: 014/070 | Batch 000/176 | Cost: 0.4344\n",
      "Epoch: 014/070 | Batch 050/176 | Cost: 0.4231\n",
      "Epoch: 014/070 | Batch 100/176 | Cost: 0.4414\n",
      "Epoch: 014/070 | Batch 150/176 | Cost: 0.3698\n",
      "Epoch: 014/070 Train Cost: 0.3443\n",
      "Train Accuracy: 88.942 | Validation Accuracy: 87.960\n",
      "Time elapsed: 4.44 min\n",
      "Epoch: 015/070 | Batch 000/176 | Cost: 0.3269\n",
      "Epoch: 015/070 | Batch 050/176 | Cost: 0.2889\n",
      "Epoch: 015/070 | Batch 100/176 | Cost: 0.4473\n",
      "Epoch: 015/070 | Batch 150/176 | Cost: 0.4574\n",
      "Epoch: 015/070 Train Cost: 0.3220\n",
      "Train Accuracy: 89.609 | Validation Accuracy: 89.280\n",
      "Time elapsed: 4.73 min\n",
      "Epoch: 016/070 | Batch 000/176 | Cost: 0.3888\n",
      "Epoch: 016/070 | Batch 050/176 | Cost: 0.3990\n",
      "Epoch: 016/070 | Batch 100/176 | Cost: 0.3845\n",
      "Epoch: 016/070 | Batch 150/176 | Cost: 0.3595\n",
      "Epoch: 016/070 Train Cost: 0.3145\n",
      "Train Accuracy: 90.476 | Validation Accuracy: 89.760\n",
      "Time elapsed: 5.01 min\n",
      "Epoch: 017/070 | Batch 000/176 | Cost: 0.3526\n",
      "Epoch: 017/070 | Batch 050/176 | Cost: 0.4105\n",
      "Epoch: 017/070 | Batch 100/176 | Cost: 0.2717\n",
      "Epoch: 017/070 | Batch 150/176 | Cost: 0.3690\n",
      "Epoch: 017/070 Train Cost: 0.3263\n",
      "Train Accuracy: 90.293 | Validation Accuracy: 89.720\n",
      "Time elapsed: 5.33 min\n",
      "Epoch: 018/070 | Batch 000/176 | Cost: 0.3640\n",
      "Epoch: 018/070 | Batch 050/176 | Cost: 0.3614\n",
      "Epoch: 018/070 | Batch 100/176 | Cost: 0.3136\n",
      "Epoch: 018/070 | Batch 150/176 | Cost: 0.3384\n",
      "Epoch: 018/070 Train Cost: 0.3329\n",
      "Train Accuracy: 90.231 | Validation Accuracy: 89.640\n",
      "Time elapsed: 5.63 min\n",
      "Epoch: 019/070 | Batch 000/176 | Cost: 0.2702\n",
      "Epoch: 019/070 | Batch 050/176 | Cost: 0.3787\n",
      "Epoch: 019/070 | Batch 100/176 | Cost: 0.3241\n",
      "Epoch: 019/070 | Batch 150/176 | Cost: 0.3211\n",
      "Epoch: 019/070 Train Cost: 0.2892\n",
      "Train Accuracy: 91.378 | Validation Accuracy: 90.320\n",
      "Time elapsed: 5.93 min\n",
      "Epoch: 020/070 | Batch 000/176 | Cost: 0.4334\n",
      "Epoch: 020/070 | Batch 050/176 | Cost: 0.2912\n",
      "Epoch: 020/070 | Batch 100/176 | Cost: 0.2971\n",
      "Epoch: 020/070 | Batch 150/176 | Cost: 0.3050\n",
      "Epoch: 020/070 Train Cost: 0.3008\n",
      "Train Accuracy: 91.289 | Validation Accuracy: 90.560\n",
      "Time elapsed: 6.23 min\n",
      "Epoch: 021/070 | Batch 000/176 | Cost: 0.4342\n",
      "Epoch: 021/070 | Batch 050/176 | Cost: 0.2529\n",
      "Epoch: 021/070 | Batch 100/176 | Cost: 0.2499\n",
      "Epoch: 021/070 | Batch 150/176 | Cost: 0.2464\n",
      "Epoch: 021/070 Train Cost: 0.2867\n",
      "Train Accuracy: 91.733 | Validation Accuracy: 90.640\n",
      "Time elapsed: 6.53 min\n",
      "Epoch: 022/070 | Batch 000/176 | Cost: 0.2931\n",
      "Epoch: 022/070 | Batch 050/176 | Cost: 0.2487\n",
      "Epoch: 022/070 | Batch 100/176 | Cost: 0.4263\n",
      "Epoch: 022/070 | Batch 150/176 | Cost: 0.3184\n",
      "Epoch: 022/070 Train Cost: 0.2841\n",
      "Train Accuracy: 91.942 | Validation Accuracy: 90.960\n",
      "Time elapsed: 6.83 min\n",
      "Epoch: 023/070 | Batch 000/176 | Cost: 0.2612\n",
      "Epoch: 023/070 | Batch 050/176 | Cost: 0.3127\n",
      "Epoch: 023/070 | Batch 100/176 | Cost: 0.4032\n",
      "Epoch: 023/070 | Batch 150/176 | Cost: 0.2519\n",
      "Epoch: 023/070 Train Cost: 0.2600\n",
      "Train Accuracy: 92.413 | Validation Accuracy: 91.640\n",
      "Time elapsed: 7.12 min\n",
      "Epoch: 024/070 | Batch 000/176 | Cost: 0.3302\n",
      "Epoch: 024/070 | Batch 050/176 | Cost: 0.2962\n",
      "Epoch: 024/070 | Batch 100/176 | Cost: 0.3282\n",
      "Epoch: 024/070 | Batch 150/176 | Cost: 0.3223\n",
      "Epoch: 024/070 Train Cost: 0.2595\n",
      "Train Accuracy: 92.422 | Validation Accuracy: 91.600\n",
      "Time elapsed: 7.41 min\n",
      "Epoch: 025/070 | Batch 000/176 | Cost: 0.2970\n",
      "Epoch: 025/070 | Batch 050/176 | Cost: 0.2891\n",
      "Epoch: 025/070 | Batch 100/176 | Cost: 0.3093\n",
      "Epoch: 025/070 | Batch 150/176 | Cost: 0.3252\n",
      "Epoch: 025/070 Train Cost: 0.2540\n",
      "Train Accuracy: 92.818 | Validation Accuracy: 91.840\n",
      "Time elapsed: 7.70 min\n",
      "Epoch: 026/070 | Batch 000/176 | Cost: 0.2986\n",
      "Epoch: 026/070 | Batch 050/176 | Cost: 0.3603\n",
      "Epoch: 026/070 | Batch 100/176 | Cost: 0.1869\n",
      "Epoch: 026/070 | Batch 150/176 | Cost: 0.5278\n",
      "Epoch: 026/070 Train Cost: 0.2556\n",
      "Train Accuracy: 92.867 | Validation Accuracy: 91.960\n",
      "Time elapsed: 7.99 min\n",
      "Epoch: 027/070 | Batch 000/176 | Cost: 0.2341\n",
      "Epoch: 027/070 | Batch 050/176 | Cost: 0.2665\n",
      "Epoch: 027/070 | Batch 100/176 | Cost: 0.5823\n",
      "Epoch: 027/070 | Batch 150/176 | Cost: 0.1947\n",
      "Epoch: 027/070 Train Cost: 0.2471\n",
      "Train Accuracy: 93.138 | Validation Accuracy: 91.720\n",
      "Time elapsed: 8.28 min\n",
      "Epoch: 028/070 | Batch 000/176 | Cost: 0.2941\n",
      "Epoch: 028/070 | Batch 050/176 | Cost: 0.3300\n",
      "Epoch: 028/070 | Batch 100/176 | Cost: 0.3297\n",
      "Epoch: 028/070 | Batch 150/176 | Cost: 0.2011\n",
      "Epoch: 028/070 Train Cost: 0.2324\n",
      "Train Accuracy: 93.542 | Validation Accuracy: 92.360\n",
      "Time elapsed: 8.58 min\n",
      "Epoch: 029/070 | Batch 000/176 | Cost: 0.2715\n"
     ]
    },
    {
     "name": "stdout",
     "output_type": "stream",
     "text": [
      "Epoch: 029/070 | Batch 050/176 | Cost: 0.4677\n",
      "Epoch: 029/070 | Batch 100/176 | Cost: 0.1969\n",
      "Epoch: 029/070 | Batch 150/176 | Cost: 0.2740\n",
      "Epoch: 029/070 Train Cost: 0.2441\n",
      "Train Accuracy: 93.333 | Validation Accuracy: 92.000\n",
      "Time elapsed: 8.87 min\n",
      "Epoch: 030/070 | Batch 000/176 | Cost: 0.3413\n",
      "Epoch: 030/070 | Batch 050/176 | Cost: 0.3062\n",
      "Epoch: 030/070 | Batch 100/176 | Cost: 0.2805\n",
      "Epoch: 030/070 | Batch 150/176 | Cost: 0.2647\n",
      "Epoch: 030/070 Train Cost: 0.2335\n",
      "Train Accuracy: 93.738 | Validation Accuracy: 92.240\n",
      "Time elapsed: 9.15 min\n",
      "Epoch: 031/070 | Batch 000/176 | Cost: 0.1660\n",
      "Epoch: 031/070 | Batch 050/176 | Cost: 0.2519\n",
      "Epoch: 031/070 | Batch 100/176 | Cost: 0.1934\n",
      "Epoch: 031/070 | Batch 150/176 | Cost: 0.3475\n",
      "Epoch: 031/070 Train Cost: 0.2287\n",
      "Train Accuracy: 93.849 | Validation Accuracy: 92.560\n",
      "Time elapsed: 9.44 min\n",
      "Epoch: 032/070 | Batch 000/176 | Cost: 0.2138\n",
      "Epoch: 032/070 | Batch 050/176 | Cost: 0.2898\n",
      "Epoch: 032/070 | Batch 100/176 | Cost: 0.2642\n",
      "Epoch: 032/070 | Batch 150/176 | Cost: 0.2752\n",
      "Epoch: 032/070 Train Cost: 0.2315\n",
      "Train Accuracy: 93.724 | Validation Accuracy: 91.640\n",
      "Time elapsed: 9.73 min\n",
      "Epoch: 033/070 | Batch 000/176 | Cost: 0.2375\n",
      "Epoch: 033/070 | Batch 050/176 | Cost: 0.3303\n",
      "Epoch: 033/070 | Batch 100/176 | Cost: 0.2635\n",
      "Epoch: 033/070 | Batch 150/176 | Cost: 0.1956\n",
      "Epoch: 033/070 Train Cost: 0.2157\n",
      "Train Accuracy: 94.080 | Validation Accuracy: 92.120\n",
      "Time elapsed: 10.01 min\n",
      "Epoch: 034/070 | Batch 000/176 | Cost: 0.4132\n",
      "Epoch: 034/070 | Batch 050/176 | Cost: 0.2713\n",
      "Epoch: 034/070 | Batch 100/176 | Cost: 0.2387\n",
      "Epoch: 034/070 | Batch 150/176 | Cost: 0.2348\n",
      "Epoch: 034/070 Train Cost: 0.2112\n",
      "Train Accuracy: 94.382 | Validation Accuracy: 92.160\n",
      "Time elapsed: 10.30 min\n",
      "Epoch: 035/070 | Batch 000/176 | Cost: 0.3649\n",
      "Epoch: 035/070 | Batch 050/176 | Cost: 0.2007\n",
      "Epoch: 035/070 | Batch 100/176 | Cost: 0.2409\n",
      "Epoch: 035/070 | Batch 150/176 | Cost: 0.2639\n",
      "Epoch: 035/070 Train Cost: 0.2045\n",
      "Train Accuracy: 94.422 | Validation Accuracy: 92.560\n",
      "Time elapsed: 10.59 min\n",
      "Epoch: 036/070 | Batch 000/176 | Cost: 0.2953\n",
      "Epoch: 036/070 | Batch 050/176 | Cost: 0.3324\n",
      "Epoch: 036/070 | Batch 100/176 | Cost: 0.3213\n",
      "Epoch: 036/070 | Batch 150/176 | Cost: 0.1573\n",
      "Epoch: 036/070 Train Cost: 0.2059\n",
      "Train Accuracy: 94.502 | Validation Accuracy: 92.360\n",
      "Time elapsed: 10.88 min\n",
      "Epoch: 037/070 | Batch 000/176 | Cost: 0.2777\n",
      "Epoch: 037/070 | Batch 050/176 | Cost: 0.3288\n",
      "Epoch: 037/070 | Batch 100/176 | Cost: 0.2607\n",
      "Epoch: 037/070 | Batch 150/176 | Cost: 0.2415\n",
      "Epoch: 037/070 Train Cost: 0.2010\n",
      "Train Accuracy: 94.631 | Validation Accuracy: 92.360\n",
      "Time elapsed: 11.16 min\n",
      "Epoch: 038/070 | Batch 000/176 | Cost: 0.3623\n",
      "Epoch: 038/070 | Batch 050/176 | Cost: 0.3653\n",
      "Epoch: 038/070 | Batch 100/176 | Cost: 0.1878\n",
      "Epoch: 038/070 | Batch 150/176 | Cost: 0.2723\n",
      "Epoch: 038/070 Train Cost: 0.1946\n",
      "Train Accuracy: 94.689 | Validation Accuracy: 92.720\n",
      "Time elapsed: 11.45 min\n",
      "Epoch: 039/070 | Batch 000/176 | Cost: 0.2625\n",
      "Epoch: 039/070 | Batch 050/176 | Cost: 0.2865\n",
      "Epoch: 039/070 | Batch 100/176 | Cost: 0.2701\n",
      "Epoch: 039/070 | Batch 150/176 | Cost: 0.3628\n",
      "Epoch: 039/070 Train Cost: 0.1890\n",
      "Train Accuracy: 94.867 | Validation Accuracy: 92.560\n",
      "Time elapsed: 11.74 min\n",
      "Epoch: 040/070 | Batch 000/176 | Cost: 0.2550\n",
      "Epoch: 040/070 | Batch 050/176 | Cost: 0.2002\n",
      "Epoch: 040/070 | Batch 100/176 | Cost: 0.2011\n",
      "Epoch: 040/070 | Batch 150/176 | Cost: 0.3511\n",
      "Epoch: 040/070 Train Cost: 0.1944\n",
      "Train Accuracy: 94.853 | Validation Accuracy: 92.680\n",
      "Time elapsed: 12.03 min\n",
      "Epoch: 041/070 | Batch 000/176 | Cost: 0.1911\n",
      "Epoch: 041/070 | Batch 050/176 | Cost: 0.2145\n",
      "Epoch: 041/070 | Batch 100/176 | Cost: 0.2227\n",
      "Epoch: 041/070 | Batch 150/176 | Cost: 0.2124\n",
      "Epoch: 041/070 Train Cost: 0.1831\n",
      "Train Accuracy: 95.098 | Validation Accuracy: 92.560\n",
      "Time elapsed: 12.31 min\n",
      "Epoch: 042/070 | Batch 000/176 | Cost: 0.2122\n",
      "Epoch: 042/070 | Batch 050/176 | Cost: 0.1975\n",
      "Epoch: 042/070 | Batch 100/176 | Cost: 0.1595\n",
      "Epoch: 042/070 | Batch 150/176 | Cost: 0.1440\n",
      "Epoch: 042/070 Train Cost: 0.1797\n",
      "Train Accuracy: 95.231 | Validation Accuracy: 92.480\n",
      "Time elapsed: 12.60 min\n",
      "Epoch: 043/070 | Batch 000/176 | Cost: 0.1936\n",
      "Epoch: 043/070 | Batch 050/176 | Cost: 0.1935\n",
      "Epoch: 043/070 | Batch 100/176 | Cost: 0.2660\n",
      "Epoch: 043/070 | Batch 150/176 | Cost: 0.1771\n",
      "Epoch: 043/070 Train Cost: 0.1827\n",
      "Train Accuracy: 95.191 | Validation Accuracy: 92.560\n",
      "Time elapsed: 12.88 min\n",
      "Epoch: 044/070 | Batch 000/176 | Cost: 0.1857\n",
      "Epoch: 044/070 | Batch 050/176 | Cost: 0.2174\n",
      "Epoch: 044/070 | Batch 100/176 | Cost: 0.1985\n",
      "Epoch: 044/070 | Batch 150/176 | Cost: 0.1390\n",
      "Epoch: 044/070 Train Cost: 0.1731\n",
      "Train Accuracy: 95.422 | Validation Accuracy: 92.640\n",
      "Time elapsed: 13.17 min\n",
      "Epoch: 045/070 | Batch 000/176 | Cost: 0.2801\n",
      "Epoch: 045/070 | Batch 050/176 | Cost: 0.1806\n",
      "Epoch: 045/070 | Batch 100/176 | Cost: 0.1471\n",
      "Epoch: 045/070 | Batch 150/176 | Cost: 0.2925\n",
      "Epoch: 045/070 Train Cost: 0.1789\n",
      "Train Accuracy: 95.276 | Validation Accuracy: 92.600\n",
      "Time elapsed: 13.45 min\n",
      "Epoch: 046/070 | Batch 000/176 | Cost: 0.1859\n",
      "Epoch: 046/070 | Batch 050/176 | Cost: 0.4199\n",
      "Epoch: 046/070 | Batch 100/176 | Cost: 0.2144\n",
      "Epoch: 046/070 | Batch 150/176 | Cost: 0.2100\n",
      "Epoch: 046/070 Train Cost: 0.1676\n",
      "Train Accuracy: 95.596 | Validation Accuracy: 92.880\n",
      "Time elapsed: 13.74 min\n",
      "Epoch: 047/070 | Batch 000/176 | Cost: 0.1597\n",
      "Epoch: 047/070 | Batch 050/176 | Cost: 0.2679\n",
      "Epoch: 047/070 | Batch 100/176 | Cost: 0.1615\n",
      "Epoch: 047/070 | Batch 150/176 | Cost: 0.2028\n",
      "Epoch: 047/070 Train Cost: 0.1704\n",
      "Train Accuracy: 95.338 | Validation Accuracy: 92.480\n",
      "Time elapsed: 14.02 min\n",
      "Epoch: 048/070 | Batch 000/176 | Cost: 0.3010\n",
      "Epoch: 048/070 | Batch 050/176 | Cost: 0.3031\n",
      "Epoch: 048/070 | Batch 100/176 | Cost: 0.1900\n",
      "Epoch: 048/070 | Batch 150/176 | Cost: 0.1874\n",
      "Epoch: 048/070 Train Cost: 0.1646\n",
      "Train Accuracy: 95.720 | Validation Accuracy: 92.760\n",
      "Time elapsed: 14.32 min\n",
      "Epoch: 049/070 | Batch 000/176 | Cost: 0.2005\n",
      "Epoch: 049/070 | Batch 050/176 | Cost: 0.2640\n",
      "Epoch: 049/070 | Batch 100/176 | Cost: 0.2264\n",
      "Epoch: 049/070 | Batch 150/176 | Cost: 0.2325\n",
      "Epoch: 049/070 Train Cost: 0.1674\n",
      "Train Accuracy: 95.569 | Validation Accuracy: 92.440\n",
      "Time elapsed: 14.61 min\n",
      "Epoch: 050/070 | Batch 000/176 | Cost: 0.2962\n",
      "Epoch: 050/070 | Batch 050/176 | Cost: 0.3247\n",
      "Epoch: 050/070 | Batch 100/176 | Cost: 0.1603\n",
      "Epoch: 050/070 | Batch 150/176 | Cost: 0.1737\n",
      "Epoch: 050/070 Train Cost: 0.1650\n",
      "Train Accuracy: 95.738 | Validation Accuracy: 92.680\n",
      "Time elapsed: 14.89 min\n",
      "Epoch: 051/070 | Batch 000/176 | Cost: 0.2726\n",
      "Epoch: 051/070 | Batch 050/176 | Cost: 0.2432\n",
      "Epoch: 051/070 | Batch 100/176 | Cost: 0.1817\n",
      "Epoch: 051/070 | Batch 150/176 | Cost: 0.2503\n",
      "Epoch: 051/070 Train Cost: 0.1542\n",
      "Train Accuracy: 96.009 | Validation Accuracy: 93.080\n",
      "Time elapsed: 15.18 min\n",
      "Epoch: 052/070 | Batch 000/176 | Cost: 0.2343\n",
      "Epoch: 052/070 | Batch 050/176 | Cost: 0.1822\n",
      "Epoch: 052/070 | Batch 100/176 | Cost: 0.1747\n",
      "Epoch: 052/070 | Batch 150/176 | Cost: 0.2481\n",
      "Epoch: 052/070 Train Cost: 0.1495\n",
      "Train Accuracy: 96.164 | Validation Accuracy: 93.080\n",
      "Time elapsed: 15.47 min\n",
      "Epoch: 053/070 | Batch 000/176 | Cost: 0.2196\n",
      "Epoch: 053/070 | Batch 050/176 | Cost: 0.2584\n",
      "Epoch: 053/070 | Batch 100/176 | Cost: 0.1811\n",
      "Epoch: 053/070 | Batch 150/176 | Cost: 0.2917\n",
      "Epoch: 053/070 Train Cost: 0.1477\n",
      "Train Accuracy: 96.098 | Validation Accuracy: 92.800\n",
      "Time elapsed: 15.75 min\n",
      "Epoch: 054/070 | Batch 000/176 | Cost: 0.2216\n",
      "Epoch: 054/070 | Batch 050/176 | Cost: 0.2826\n",
      "Epoch: 054/070 | Batch 100/176 | Cost: 0.3187\n",
      "Epoch: 054/070 | Batch 150/176 | Cost: 0.1942\n",
      "Epoch: 054/070 Train Cost: 0.1479\n",
      "Train Accuracy: 96.071 | Validation Accuracy: 92.720\n",
      "Time elapsed: 16.04 min\n",
      "Epoch: 055/070 | Batch 000/176 | Cost: 0.2796\n",
      "Epoch: 055/070 | Batch 050/176 | Cost: 0.2028\n",
      "Epoch: 055/070 | Batch 100/176 | Cost: 0.1239\n",
      "Epoch: 055/070 | Batch 150/176 | Cost: 0.2482\n",
      "Epoch: 055/070 Train Cost: 0.1445\n",
      "Train Accuracy: 96.280 | Validation Accuracy: 92.680\n",
      "Time elapsed: 16.32 min\n",
      "Epoch: 056/070 | Batch 000/176 | Cost: 0.2226\n",
      "Epoch: 056/070 | Batch 050/176 | Cost: 0.1493\n",
      "Epoch: 056/070 | Batch 100/176 | Cost: 0.2118\n",
      "Epoch: 056/070 | Batch 150/176 | Cost: 0.1323\n",
      "Epoch: 056/070 Train Cost: 0.1399\n",
      "Train Accuracy: 96.324 | Validation Accuracy: 92.960\n",
      "Time elapsed: 16.61 min\n",
      "Epoch: 057/070 | Batch 000/176 | Cost: 0.2464\n"
     ]
    },
    {
     "name": "stdout",
     "output_type": "stream",
     "text": [
      "Epoch: 057/070 | Batch 050/176 | Cost: 0.2039\n",
      "Epoch: 057/070 | Batch 100/176 | Cost: 0.3158\n",
      "Epoch: 057/070 | Batch 150/176 | Cost: 0.2158\n",
      "Epoch: 057/070 Train Cost: 0.1380\n",
      "Train Accuracy: 96.307 | Validation Accuracy: 92.960\n",
      "Time elapsed: 16.89 min\n",
      "Epoch: 058/070 | Batch 000/176 | Cost: 0.1559\n",
      "Epoch: 058/070 | Batch 050/176 | Cost: 0.0576\n",
      "Epoch: 058/070 | Batch 100/176 | Cost: 0.2942\n",
      "Epoch: 058/070 | Batch 150/176 | Cost: 0.2657\n",
      "Epoch: 058/070 Train Cost: 0.1338\n",
      "Train Accuracy: 96.738 | Validation Accuracy: 92.920\n",
      "Time elapsed: 17.18 min\n",
      "Epoch: 059/070 | Batch 000/176 | Cost: 0.1653\n",
      "Epoch: 059/070 | Batch 050/176 | Cost: 0.2347\n",
      "Epoch: 059/070 | Batch 100/176 | Cost: 0.1249\n",
      "Epoch: 059/070 | Batch 150/176 | Cost: 0.2070\n",
      "Epoch: 059/070 Train Cost: 0.1353\n",
      "Train Accuracy: 96.556 | Validation Accuracy: 93.120\n",
      "Time elapsed: 17.47 min\n",
      "Epoch: 060/070 | Batch 000/176 | Cost: 0.2143\n",
      "Epoch: 060/070 | Batch 050/176 | Cost: 0.2887\n",
      "Epoch: 060/070 | Batch 100/176 | Cost: 0.1504\n",
      "Epoch: 060/070 | Batch 150/176 | Cost: 0.1415\n",
      "Epoch: 060/070 Train Cost: 0.1297\n",
      "Train Accuracy: 96.680 | Validation Accuracy: 92.960\n",
      "Time elapsed: 17.75 min\n",
      "Epoch: 061/070 | Batch 000/176 | Cost: 0.1457\n",
      "Epoch: 061/070 | Batch 050/176 | Cost: 0.2814\n",
      "Epoch: 061/070 | Batch 100/176 | Cost: 0.1840\n",
      "Epoch: 061/070 | Batch 150/176 | Cost: 0.1520\n",
      "Epoch: 061/070 Train Cost: 0.1332\n",
      "Train Accuracy: 96.609 | Validation Accuracy: 92.640\n",
      "Time elapsed: 18.04 min\n",
      "Epoch: 062/070 | Batch 000/176 | Cost: 0.1368\n",
      "Epoch: 062/070 | Batch 050/176 | Cost: 0.1899\n",
      "Epoch: 062/070 | Batch 100/176 | Cost: 0.2294\n",
      "Epoch: 062/070 | Batch 150/176 | Cost: 0.1806\n",
      "Epoch: 062/070 Train Cost: 0.1267\n",
      "Train Accuracy: 96.667 | Validation Accuracy: 93.440\n",
      "Time elapsed: 18.32 min\n",
      "Epoch: 063/070 | Batch 000/176 | Cost: 0.1633\n",
      "Epoch: 063/070 | Batch 050/176 | Cost: 0.1044\n",
      "Epoch: 063/070 | Batch 100/176 | Cost: 0.2078\n",
      "Epoch: 063/070 | Batch 150/176 | Cost: 0.3991\n",
      "Epoch: 063/070 Train Cost: 0.1274\n",
      "Train Accuracy: 96.742 | Validation Accuracy: 92.920\n",
      "Time elapsed: 18.61 min\n",
      "Epoch: 064/070 | Batch 000/176 | Cost: 0.1383\n",
      "Epoch: 064/070 | Batch 050/176 | Cost: 0.1139\n",
      "Epoch: 064/070 | Batch 100/176 | Cost: 0.1914\n",
      "Epoch: 064/070 | Batch 150/176 | Cost: 0.1764\n",
      "Epoch: 064/070 Train Cost: 0.1222\n",
      "Train Accuracy: 96.716 | Validation Accuracy: 93.280\n",
      "Time elapsed: 18.90 min\n",
      "Epoch: 065/070 | Batch 000/176 | Cost: 0.1635\n",
      "Epoch: 065/070 | Batch 050/176 | Cost: 0.2407\n",
      "Epoch: 065/070 | Batch 100/176 | Cost: 0.1785\n",
      "Epoch: 065/070 | Batch 150/176 | Cost: 0.1719\n",
      "Epoch: 065/070 Train Cost: 0.1247\n",
      "Train Accuracy: 96.738 | Validation Accuracy: 92.680\n",
      "Time elapsed: 19.19 min\n",
      "Epoch: 066/070 | Batch 000/176 | Cost: 0.2353\n",
      "Epoch: 066/070 | Batch 050/176 | Cost: 0.1512\n",
      "Epoch: 066/070 | Batch 100/176 | Cost: 0.1584\n",
      "Epoch: 066/070 | Batch 150/176 | Cost: 0.2200\n",
      "Epoch: 066/070 Train Cost: 0.1187\n",
      "Train Accuracy: 96.738 | Validation Accuracy: 92.880\n",
      "Time elapsed: 19.47 min\n",
      "Epoch: 067/070 | Batch 000/176 | Cost: 0.1094\n",
      "Epoch: 067/070 | Batch 050/176 | Cost: 0.1497\n",
      "Epoch: 067/070 | Batch 100/176 | Cost: 0.2067\n",
      "Epoch: 067/070 | Batch 150/176 | Cost: 0.2636\n",
      "Epoch: 067/070 Train Cost: 0.1166\n",
      "Train Accuracy: 97.018 | Validation Accuracy: 93.080\n",
      "Time elapsed: 19.76 min\n",
      "Epoch: 068/070 | Batch 000/176 | Cost: 0.0636\n",
      "Epoch: 068/070 | Batch 050/176 | Cost: 0.1618\n",
      "Epoch: 068/070 | Batch 100/176 | Cost: 0.1657\n",
      "Epoch: 068/070 | Batch 150/176 | Cost: 0.2295\n",
      "Epoch: 068/070 Train Cost: 0.1127\n",
      "Train Accuracy: 97.111 | Validation Accuracy: 93.480\n",
      "Time elapsed: 20.04 min\n",
      "Epoch: 069/070 | Batch 000/176 | Cost: 0.2916\n",
      "Epoch: 069/070 | Batch 050/176 | Cost: 0.1442\n",
      "Epoch: 069/070 | Batch 100/176 | Cost: 0.3976\n",
      "Epoch: 069/070 | Batch 150/176 | Cost: 0.1439\n",
      "Epoch: 069/070 Train Cost: 0.1107\n",
      "Train Accuracy: 97.178 | Validation Accuracy: 93.320\n",
      "Time elapsed: 20.33 min\n",
      "Epoch: 070/070 | Batch 000/176 | Cost: 0.1216\n",
      "Epoch: 070/070 | Batch 050/176 | Cost: 0.1802\n",
      "Epoch: 070/070 | Batch 100/176 | Cost: 0.2874\n",
      "Epoch: 070/070 | Batch 150/176 | Cost: 0.1782\n",
      "Epoch: 070/070 Train Cost: 0.1114\n",
      "Train Accuracy: 96.973 | Validation Accuracy: 93.760\n",
      "Time elapsed: 20.61 min\n",
      "Total Training Time: 20.61 min\n"
     ]
    }
   ],
   "source": [
    "# Training\n",
    "\n",
    "\n",
    "# PLEASE DON'T CHANGE THE compute_epoch_loss\n",
    "# and the compute accuracy functions\n",
    "\n",
    "def compute_epoch_loss(model, data_loader):\n",
    "    curr_loss, num_examples = 0., 0\n",
    "    with torch.no_grad():\n",
    "        for features, targets in data_loader:\n",
    "            features = features.view(-1, 28*28).to(DEVICE)\n",
    "            targets = targets.to(DEVICE)\n",
    "            logits, probas = model(features)\n",
    "            loss = F.cross_entropy(logits, targets, reduction='sum')\n",
    "            num_examples += targets.size(0)\n",
    "            curr_loss += loss\n",
    "\n",
    "        curr_loss = curr_loss / num_examples\n",
    "        return curr_loss\n",
    "\n",
    "\n",
    "def compute_accuracy(model, data_loader):\n",
    "    correct_pred, num_examples = 0, 0\n",
    "    with torch.no_grad():\n",
    "        for features, targets in data_loader:\n",
    "            features = features.view(-1, 28*28).to(DEVICE)\n",
    "            targets = targets.to(DEVICE)\n",
    "            logits, probas = model.forward(features)\n",
    "            predicted_labels = torch.argmax(probas, 1)\n",
    "            num_examples += targets.size(0)\n",
    "            correct_pred += (predicted_labels == targets).sum()\n",
    "        return correct_pred.float()/num_examples * 100\n",
    "\n",
    "\n",
    "start_time = time.time()\n",
    "minibatch_cost = []\n",
    "epoch_cost = []\n",
    "\n",
    "# NO NEED TO CHANGE ANYTHING BELOW. HOWEVER, YOU CAN CHANGE\n",
    "# THE NUMBER OF EPOCHS IF YOU LIKE\n",
    "\n",
    "NUM_EPOCHS = 70\n",
    "\n",
    "for epoch in range(NUM_EPOCHS):\n",
    "    model.train()\n",
    "    for batch_idx, (features, targets) in enumerate(train_loader):\n",
    "        features = features.view(-1, 28*28).to(DEVICE)\n",
    "        targets = targets.to(DEVICE)\n",
    "\n",
    "        # FORWARD AND BACK PROP\n",
    "        logits, probas = model(features)\n",
    "        cost = F.cross_entropy(logits, targets)\n",
    "        optimizer.zero_grad()\n",
    "        cost.backward()\n",
    "        minibatch_cost.append(cost)\n",
    "\n",
    "        # UPDATE MODEL PARAMETERS\n",
    "        optimizer.step()\n",
    "\n",
    "        # LOGGING\n",
    "        if not batch_idx % 50:\n",
    "            print('Epoch: %03d/%03d | Batch %03d/%03d | Cost: %.4f'\n",
    "                  % (epoch+1, NUM_EPOCHS, batch_idx,\n",
    "                     len(train_loader), cost))\n",
    "\n",
    "    model.eval()\n",
    "    cost = compute_epoch_loss(model, train_loader)\n",
    "    epoch_cost.append(cost)\n",
    "\n",
    "    train_accuracy = compute_accuracy(model, train_loader)\n",
    "    valid_accuracy = compute_accuracy(model, valid_loader)\n",
    "\n",
    "    print('Epoch: %03d/%03d Train Cost: %.4f' % (\n",
    "            epoch+1, NUM_EPOCHS, cost))\n",
    "    print('Train Accuracy: %.3f | Validation Accuracy: %.3f'\n",
    "          % (train_accuracy, valid_accuracy))\n",
    "    print('Time elapsed: %.2f min' % ((time.time() - start_time)/60))\n",
    "\n",
    "print('Total Training Time: %.2f min' % ((time.time() - start_time)/60))"
   ]
  },
  {
   "cell_type": "markdown",
   "metadata": {},
   "source": [
    "### Evaluation (No Need To Change Any Code in This Section!)"
   ]
  },
  {
   "cell_type": "code",
   "execution_count": 12,
   "metadata": {},
   "outputs": [
    {
     "data": {
      "image/png": "[encoded data removed]",
      "text/plain": [
       "<Figure size 432x288 with 1 Axes>"
      ]
     },
     "metadata": {
      "needs_background": "light"
     },
     "output_type": "display_data"
    },
    {
     "data": {
      "image/png": "[encoded data removed]",
      "text/plain": [
       "<Figure size 432x288 with 1 Axes>"
      ]
     },
     "metadata": {
      "needs_background": "light"
     },
     "output_type": "display_data"
    }
   ],
   "source": [
    "plt.plot(range(len(minibatch_cost)), minibatch_cost)\n",
    "plt.ylabel('Cross Entropy')\n",
    "plt.xlabel('Minibatch')\n",
    "plt.show()\n",
    "\n",
    "plt.plot(range(len(epoch_cost)), epoch_cost)\n",
    "plt.ylabel('Cross Entropy')\n",
    "plt.xlabel('Epoch')\n",
    "plt.show()"
   ]
  },
  {
   "cell_type": "code",
   "execution_count": 13,
   "metadata": {},
   "outputs": [
    {
     "name": "stdout",
     "output_type": "stream",
     "text": [
      "Test Accuracy: 93.28\n"
     ]
    }
   ],
   "source": [
    "print('Test Accuracy: %.2f' % compute_accuracy(model, test_loader))"
   ]
  },
  {
   "cell_type": "markdown",
   "metadata": {},
   "source": [
    "### Conclusions (YOUR ANSWERS REQUIRED)"
   ]
  },
  {
   "cell_type": "markdown",
   "metadata": {},
   "source": [
    "**1) What is your training, validation, and test accuracy (paste your numbers from above)? Also, do you notice any overfitting? If yes, why do you think your model is overfitting, and what would be a simple technique to reduce overfitting?**\n",
    "\n",
    "#### Model 1 - No Change\n",
    " - Train: 88.840\n",
    " - Validation: 88.440\n",
    " - Test: 88.55\n",
    "\n",
    "We can see that the training, validation, and testing accuracy rates are almost same. There is no sign of overfitting. However, the training accuracy can be much improved.\n",
    "\n",
    "#### Model 2 - Overfitting\n",
    "First, I made the following changes to the previous model. I increased the number of hidden layers and neurons, to make the model more complex and flexible. I also increased epochs from 25 to 70.\n",
    " - Epoch: 70\n",
    " - Hidden Layers: 3\n",
    " - Hidden Neurons: 200 for all layers\n",
    " - Activation Function: ReLu for all layers\n",
    "\n",
    "The resulting accuracy rates are as follows.\n",
    " - Train: 99.680\n",
    " - Validation: 92.200\n",
    " - Test: 92.34\n",
    "\n",
    "The training accuracy has dramatically improved and become almost 100% accurate. However, validation and test accuracy rates are much lower than the training accuracy. This is a sure sign of overfitting.\n",
    "\n",
    "The number of layers and neurons are so large that our model has too much capacity to learn even tiny patterns and noises of the training set. Our model achieves the great reduction in bias and thus the very good fit for the training set, but suffers from high variance. \n",
    "\n",
    "We need to use regularization methods to constrain model complexity and control overfitting. We can reduce the number of epochs to stop training early, introduce penalty for complexity (L1/L2 regularization), or drop nodes at random to prevent our model relying too heavily on particular connections (Dropout). Reducing layers and neurons may also be an option.\n",
    "\n",
    "In this problem, I decided to use the dropout method."
   ]
  },
  {
   "cell_type": "markdown",
   "metadata": {},
   "source": [
    "**2) What architectual changes did you make to improve the performance?**\n",
    "\n",
    "#### Model 3: Dropout + Previous Model\n",
    "As described above, I used the dropout method to control overfitting.\n",
    "I made the following changes to the `Model 2`.\n",
    " - Using F.dropout after each layer\n",
    " - Dropout Probability: 0.2 for the input layer, 0.5 for the hidden layers\n",
    "\n",
    "The resulting accuracy rates are as follows.\n",
    " - Train: 96.973\n",
    " - Validation: 93.760\n",
    " - Test: 93.28\n",
    "\n",
    "The deference between training accuracy and test accuracy has become smaller, and now we have more than 93% accuracy for the test set. Thanks to regularization, our model achieves the better fit for the test set."
   ]
  },
  {
   "cell_type": "markdown",
   "metadata": {},
   "source": [
    "**3) Assuming you increased the accuracy by 3%, how many more correct predictions did the improved model make in the test set?**\n",
    "\n",
    "We have 65,000 images in the test set. Therefore, 3% increase in the test accuracy means 1,950 more correct predictions.\n",
    "\n",
    "$65,000 * 0.03 = 1,950$ "
   ]
  }
 ],
 "metadata": {
  "kernelspec": {
   "display_name": "Python 3",
   "language": "python",
   "name": "python3"
  },
  "language_info": {
   "codemirror_mode": {
    "name": "ipython",
    "version": 3
   },
   "file_extension": ".py",
   "mimetype": "text/x-python",
   "name": "python",
   "nbconvert_exporter": "python",
   "pygments_lexer": "ipython3",
   "version": "3.7.4"
  }
 },
 "nbformat": 4,
 "nbformat_minor": 2
}
